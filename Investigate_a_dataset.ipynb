{
 "cells": [
  {
   "cell_type": "markdown",
   "metadata": {},
   "source": [
    "\n",
    "\n",
    "# Project: Investigate a Dataset - TMDb Movie Data\n",
    "\n",
    "## Table of Contents\n",
    "<ul>\n",
    "<li><a href=\"#intro\">Introduction</a></li>\n",
    "<li><a href=\"#wrangling\">Data Wrangling</a></li>\n",
    "<li><a href=\"#eda\">Exploratory Data Analysis</a></li>\n",
    "<li><a href=\"#conclusions\">Conclusions</a></li>\n",
    "</ul>"
   ]
  },
  {
   "cell_type": "markdown",
   "metadata": {},
   "source": [
    "<a id='intro'></a>\n",
    "## Introduction\n",
    "\n",
    "### Dataset Description \n",
    "\n",
    "TMDb movie data (cleaned from original data on Kaggle)\n",
    "This data set contains information about 10,000 movies collected from The Movie Database (TMDb), including user ratings and revenue.\n",
    "\n",
    "id        - Movie ID                 \n",
    "imdb_id   - Internet Movie Database ID      \n",
    "popularity - Ratings among viewers                \n",
    "budget     - Cost of production                \n",
    "revenue    - Profit generated                \n",
    "original_title - Name of movie            \n",
    "cast          - Lead actors/actresses            \n",
    "homepage                \n",
    "director                  \n",
    "tagline                 \n",
    "keywords                \n",
    "overview                   \n",
    "runtime                    \n",
    "genres        - Categories of movies            \n",
    "production_companies   - Company handling movie pproduction \n",
    "release_date       - Date made available to public        \n",
    "vote_count                 \n",
    "vote_average               \n",
    "release_year        - Yearmade available to public      \n",
    "budget_adj                 \n",
    "revenue_adj      \n",
    "\n"
   ]
  },
  {
   "cell_type": "markdown",
   "metadata": {},
   "source": [
    "## Question(s) for Analysis\n",
    "**1. Which movie lengths are more popular with viewers?**\n",
    "\n",
    "**2. Which movie genres have the higest and lowest budgets?**"
   ]
  },
  {
   "cell_type": "code",
   "execution_count": null,
   "metadata": {},
   "outputs": [],
   "source": []
  },
  {
   "cell_type": "code",
   "execution_count": 6,
   "metadata": {},
   "outputs": [],
   "source": [
    "\n",
    "\n",
    "import numpy as np\n",
    "import pandas as pd\n",
    "import seaborn as sns\n",
    "import matplotlib.pyplot as plt\n",
    "%matplotlib inline\n",
    "import warnings\n",
    "warnings.filterwarnings('ignore')"
   ]
  },
  {
   "cell_type": "code",
   "execution_count": null,
   "metadata": {},
   "outputs": [],
   "source": [
    "# Upgrade pandas to use dataframe.explode() function. \n",
    "!pip install --upgrade pandas==0.25.0"
   ]
  },
  {
   "cell_type": "markdown",
   "metadata": {},
   "source": [
    "<a id='wrangling'></a>\n",
    "## Data Wrangling\n",
    "\n",
    "\n",
    "### General Properties"
   ]
  },
  {
   "cell_type": "code",
   "execution_count": null,
   "metadata": {},
   "outputs": [],
   "source": []
  },
  {
   "cell_type": "markdown",
   "metadata": {},
   "source": [
    "Read the data in the csv file using the pandas `pd.read_csv()` function"
   ]
  },
  {
   "cell_type": "code",
   "execution_count": 7,
   "metadata": {},
   "outputs": [
    {
     "data": {
      "text/html": [
       "<div>\n",
       "<style scoped>\n",
       "    .dataframe tbody tr th:only-of-type {\n",
       "        vertical-align: middle;\n",
       "    }\n",
       "\n",
       "    .dataframe tbody tr th {\n",
       "        vertical-align: top;\n",
       "    }\n",
       "\n",
       "    .dataframe thead th {\n",
       "        text-align: right;\n",
       "    }\n",
       "</style>\n",
       "<table border=\"1\" class=\"dataframe\">\n",
       "  <thead>\n",
       "    <tr style=\"text-align: right;\">\n",
       "      <th></th>\n",
       "      <th>id</th>\n",
       "      <th>imdb_id</th>\n",
       "      <th>popularity</th>\n",
       "      <th>budget</th>\n",
       "      <th>revenue</th>\n",
       "      <th>original_title</th>\n",
       "      <th>cast</th>\n",
       "      <th>homepage</th>\n",
       "      <th>director</th>\n",
       "      <th>tagline</th>\n",
       "      <th>...</th>\n",
       "      <th>overview</th>\n",
       "      <th>runtime</th>\n",
       "      <th>genres</th>\n",
       "      <th>production_companies</th>\n",
       "      <th>release_date</th>\n",
       "      <th>vote_count</th>\n",
       "      <th>vote_average</th>\n",
       "      <th>release_year</th>\n",
       "      <th>budget_adj</th>\n",
       "      <th>revenue_adj</th>\n",
       "    </tr>\n",
       "  </thead>\n",
       "  <tbody>\n",
       "    <tr>\n",
       "      <th>0</th>\n",
       "      <td>135397</td>\n",
       "      <td>tt0369610</td>\n",
       "      <td>32.985763</td>\n",
       "      <td>150000000</td>\n",
       "      <td>1513528810</td>\n",
       "      <td>Jurassic World</td>\n",
       "      <td>Chris Pratt|Bryce Dallas Howard|Irrfan Khan|Vi...</td>\n",
       "      <td>http://www.jurassicworld.com/</td>\n",
       "      <td>Colin Trevorrow</td>\n",
       "      <td>The park is open.</td>\n",
       "      <td>...</td>\n",
       "      <td>Twenty-two years after the events of Jurassic ...</td>\n",
       "      <td>124</td>\n",
       "      <td>Action|Adventure|Science Fiction|Thriller</td>\n",
       "      <td>Universal Studios|Amblin Entertainment|Legenda...</td>\n",
       "      <td>6/9/15</td>\n",
       "      <td>5562</td>\n",
       "      <td>6.5</td>\n",
       "      <td>2015</td>\n",
       "      <td>1.379999e+08</td>\n",
       "      <td>1.392446e+09</td>\n",
       "    </tr>\n",
       "    <tr>\n",
       "      <th>1</th>\n",
       "      <td>76341</td>\n",
       "      <td>tt1392190</td>\n",
       "      <td>28.419936</td>\n",
       "      <td>150000000</td>\n",
       "      <td>378436354</td>\n",
       "      <td>Mad Max: Fury Road</td>\n",
       "      <td>Tom Hardy|Charlize Theron|Hugh Keays-Byrne|Nic...</td>\n",
       "      <td>http://www.madmaxmovie.com/</td>\n",
       "      <td>George Miller</td>\n",
       "      <td>What a Lovely Day.</td>\n",
       "      <td>...</td>\n",
       "      <td>An apocalyptic story set in the furthest reach...</td>\n",
       "      <td>120</td>\n",
       "      <td>Action|Adventure|Science Fiction|Thriller</td>\n",
       "      <td>Village Roadshow Pictures|Kennedy Miller Produ...</td>\n",
       "      <td>5/13/15</td>\n",
       "      <td>6185</td>\n",
       "      <td>7.1</td>\n",
       "      <td>2015</td>\n",
       "      <td>1.379999e+08</td>\n",
       "      <td>3.481613e+08</td>\n",
       "    </tr>\n",
       "    <tr>\n",
       "      <th>2</th>\n",
       "      <td>262500</td>\n",
       "      <td>tt2908446</td>\n",
       "      <td>13.112507</td>\n",
       "      <td>110000000</td>\n",
       "      <td>295238201</td>\n",
       "      <td>Insurgent</td>\n",
       "      <td>Shailene Woodley|Theo James|Kate Winslet|Ansel...</td>\n",
       "      <td>http://www.thedivergentseries.movie/#insurgent</td>\n",
       "      <td>Robert Schwentke</td>\n",
       "      <td>One Choice Can Destroy You</td>\n",
       "      <td>...</td>\n",
       "      <td>Beatrice Prior must confront her inner demons ...</td>\n",
       "      <td>119</td>\n",
       "      <td>Adventure|Science Fiction|Thriller</td>\n",
       "      <td>Summit Entertainment|Mandeville Films|Red Wago...</td>\n",
       "      <td>3/18/15</td>\n",
       "      <td>2480</td>\n",
       "      <td>6.3</td>\n",
       "      <td>2015</td>\n",
       "      <td>1.012000e+08</td>\n",
       "      <td>2.716190e+08</td>\n",
       "    </tr>\n",
       "    <tr>\n",
       "      <th>3</th>\n",
       "      <td>140607</td>\n",
       "      <td>tt2488496</td>\n",
       "      <td>11.173104</td>\n",
       "      <td>200000000</td>\n",
       "      <td>2068178225</td>\n",
       "      <td>Star Wars: The Force Awakens</td>\n",
       "      <td>Harrison Ford|Mark Hamill|Carrie Fisher|Adam D...</td>\n",
       "      <td>http://www.starwars.com/films/star-wars-episod...</td>\n",
       "      <td>J.J. Abrams</td>\n",
       "      <td>Every generation has a story.</td>\n",
       "      <td>...</td>\n",
       "      <td>Thirty years after defeating the Galactic Empi...</td>\n",
       "      <td>136</td>\n",
       "      <td>Action|Adventure|Science Fiction|Fantasy</td>\n",
       "      <td>Lucasfilm|Truenorth Productions|Bad Robot</td>\n",
       "      <td>12/15/15</td>\n",
       "      <td>5292</td>\n",
       "      <td>7.5</td>\n",
       "      <td>2015</td>\n",
       "      <td>1.839999e+08</td>\n",
       "      <td>1.902723e+09</td>\n",
       "    </tr>\n",
       "    <tr>\n",
       "      <th>4</th>\n",
       "      <td>168259</td>\n",
       "      <td>tt2820852</td>\n",
       "      <td>9.335014</td>\n",
       "      <td>190000000</td>\n",
       "      <td>1506249360</td>\n",
       "      <td>Furious 7</td>\n",
       "      <td>Vin Diesel|Paul Walker|Jason Statham|Michelle ...</td>\n",
       "      <td>http://www.furious7.com/</td>\n",
       "      <td>James Wan</td>\n",
       "      <td>Vengeance Hits Home</td>\n",
       "      <td>...</td>\n",
       "      <td>Deckard Shaw seeks revenge against Dominic Tor...</td>\n",
       "      <td>137</td>\n",
       "      <td>Action|Crime|Thriller</td>\n",
       "      <td>Universal Pictures|Original Film|Media Rights ...</td>\n",
       "      <td>4/1/15</td>\n",
       "      <td>2947</td>\n",
       "      <td>7.3</td>\n",
       "      <td>2015</td>\n",
       "      <td>1.747999e+08</td>\n",
       "      <td>1.385749e+09</td>\n",
       "    </tr>\n",
       "  </tbody>\n",
       "</table>\n",
       "<p>5 rows × 21 columns</p>\n",
       "</div>"
      ],
      "text/plain": [
       "       id    imdb_id  popularity     budget     revenue  \\\n",
       "0  135397  tt0369610   32.985763  150000000  1513528810   \n",
       "1   76341  tt1392190   28.419936  150000000   378436354   \n",
       "2  262500  tt2908446   13.112507  110000000   295238201   \n",
       "3  140607  tt2488496   11.173104  200000000  2068178225   \n",
       "4  168259  tt2820852    9.335014  190000000  1506249360   \n",
       "\n",
       "                 original_title  \\\n",
       "0                Jurassic World   \n",
       "1            Mad Max: Fury Road   \n",
       "2                     Insurgent   \n",
       "3  Star Wars: The Force Awakens   \n",
       "4                     Furious 7   \n",
       "\n",
       "                                                cast  \\\n",
       "0  Chris Pratt|Bryce Dallas Howard|Irrfan Khan|Vi...   \n",
       "1  Tom Hardy|Charlize Theron|Hugh Keays-Byrne|Nic...   \n",
       "2  Shailene Woodley|Theo James|Kate Winslet|Ansel...   \n",
       "3  Harrison Ford|Mark Hamill|Carrie Fisher|Adam D...   \n",
       "4  Vin Diesel|Paul Walker|Jason Statham|Michelle ...   \n",
       "\n",
       "                                            homepage          director  \\\n",
       "0                      http://www.jurassicworld.com/   Colin Trevorrow   \n",
       "1                        http://www.madmaxmovie.com/     George Miller   \n",
       "2     http://www.thedivergentseries.movie/#insurgent  Robert Schwentke   \n",
       "3  http://www.starwars.com/films/star-wars-episod...       J.J. Abrams   \n",
       "4                           http://www.furious7.com/         James Wan   \n",
       "\n",
       "                         tagline  ...  \\\n",
       "0              The park is open.  ...   \n",
       "1             What a Lovely Day.  ...   \n",
       "2     One Choice Can Destroy You  ...   \n",
       "3  Every generation has a story.  ...   \n",
       "4            Vengeance Hits Home  ...   \n",
       "\n",
       "                                            overview runtime  \\\n",
       "0  Twenty-two years after the events of Jurassic ...     124   \n",
       "1  An apocalyptic story set in the furthest reach...     120   \n",
       "2  Beatrice Prior must confront her inner demons ...     119   \n",
       "3  Thirty years after defeating the Galactic Empi...     136   \n",
       "4  Deckard Shaw seeks revenge against Dominic Tor...     137   \n",
       "\n",
       "                                      genres  \\\n",
       "0  Action|Adventure|Science Fiction|Thriller   \n",
       "1  Action|Adventure|Science Fiction|Thriller   \n",
       "2         Adventure|Science Fiction|Thriller   \n",
       "3   Action|Adventure|Science Fiction|Fantasy   \n",
       "4                      Action|Crime|Thriller   \n",
       "\n",
       "                                production_companies release_date vote_count  \\\n",
       "0  Universal Studios|Amblin Entertainment|Legenda...       6/9/15       5562   \n",
       "1  Village Roadshow Pictures|Kennedy Miller Produ...      5/13/15       6185   \n",
       "2  Summit Entertainment|Mandeville Films|Red Wago...      3/18/15       2480   \n",
       "3          Lucasfilm|Truenorth Productions|Bad Robot     12/15/15       5292   \n",
       "4  Universal Pictures|Original Film|Media Rights ...       4/1/15       2947   \n",
       "\n",
       "   vote_average  release_year    budget_adj   revenue_adj  \n",
       "0           6.5          2015  1.379999e+08  1.392446e+09  \n",
       "1           7.1          2015  1.379999e+08  3.481613e+08  \n",
       "2           6.3          2015  1.012000e+08  2.716190e+08  \n",
       "3           7.5          2015  1.839999e+08  1.902723e+09  \n",
       "4           7.3          2015  1.747999e+08  1.385749e+09  \n",
       "\n",
       "[5 rows x 21 columns]"
      ]
     },
     "execution_count": 7,
     "metadata": {},
     "output_type": "execute_result"
    }
   ],
   "source": [
    "movies_df = pd.read_csv('tmdb-movies.csv')\n",
    "movies_df.head()"
   ]
  },
  {
   "cell_type": "markdown",
   "metadata": {},
   "source": []
  },
  {
   "cell_type": "code",
   "execution_count": null,
   "metadata": {},
   "outputs": [],
   "source": []
  },
  {
   "cell_type": "markdown",
   "metadata": {},
   "source": [
    "Use the `.info()` function to get an overview of the content of the dataset. Important information such as column names and total number of columns will be shown here. "
   ]
  },
  {
   "cell_type": "code",
   "execution_count": 3,
   "metadata": {},
   "outputs": [
    {
     "name": "stdout",
     "output_type": "stream",
     "text": [
      "<class 'pandas.core.frame.DataFrame'>\n",
      "RangeIndex: 10866 entries, 0 to 10865\n",
      "Data columns (total 21 columns):\n",
      " #   Column                Non-Null Count  Dtype  \n",
      "---  ------                --------------  -----  \n",
      " 0   id                    10866 non-null  int64  \n",
      " 1   imdb_id               10856 non-null  object \n",
      " 2   popularity            10866 non-null  float64\n",
      " 3   budget                10866 non-null  int64  \n",
      " 4   revenue               10866 non-null  int64  \n",
      " 5   original_title        10866 non-null  object \n",
      " 6   cast                  10790 non-null  object \n",
      " 7   homepage              2936 non-null   object \n",
      " 8   director              10822 non-null  object \n",
      " 9   tagline               8042 non-null   object \n",
      " 10  keywords              9373 non-null   object \n",
      " 11  overview              10862 non-null  object \n",
      " 12  runtime               10866 non-null  int64  \n",
      " 13  genres                10843 non-null  object \n",
      " 14  production_companies  9836 non-null   object \n",
      " 15  release_date          10866 non-null  object \n",
      " 16  vote_count            10866 non-null  int64  \n",
      " 17  vote_average          10866 non-null  float64\n",
      " 18  release_year          10866 non-null  int64  \n",
      " 19  budget_adj            10866 non-null  float64\n",
      " 20  revenue_adj           10866 non-null  float64\n",
      "dtypes: float64(4), int64(6), object(11)\n",
      "memory usage: 1.7+ MB\n"
     ]
    }
   ],
   "source": [
    "movies_df.info()"
   ]
  },
  {
   "cell_type": "code",
   "execution_count": null,
   "metadata": {},
   "outputs": [],
   "source": []
  },
  {
   "cell_type": "markdown",
   "metadata": {},
   "source": [
    "From the information above (under `Non-null Count` column), it can be intuitively inferred that null values exist in the dataset. To take a closer look, and have a firm grasp of its magnitude, we use the `.isna().sum()` function to get a count of the nulss present in the columns of the dataset."
   ]
  },
  {
   "cell_type": "code",
   "execution_count": 10,
   "metadata": {
    "scrolled": true
   },
   "outputs": [
    {
     "data": {
      "text/plain": [
       "id                         0\n",
       "imdb_id                   10\n",
       "popularity                 0\n",
       "budget                     0\n",
       "revenue                    0\n",
       "original_title             0\n",
       "cast                      76\n",
       "homepage                7930\n",
       "director                  44\n",
       "tagline                 2824\n",
       "keywords                1493\n",
       "overview                   4\n",
       "runtime                    0\n",
       "genres                    23\n",
       "production_companies    1030\n",
       "release_date               0\n",
       "vote_count                 0\n",
       "vote_average               0\n",
       "release_year               0\n",
       "budget_adj                 0\n",
       "revenue_adj                0\n",
       "dtype: int64"
      ]
     },
     "execution_count": 10,
     "metadata": {},
     "output_type": "execute_result"
    }
   ],
   "source": [
    "# Obtain counts of null values within each column\n",
    "movies_df.isna().sum()"
   ]
  },
  {
   "cell_type": "code",
   "execution_count": null,
   "metadata": {},
   "outputs": [],
   "source": []
  },
  {
   "cell_type": "markdown",
   "metadata": {},
   "source": [
    "To further ensure the integrity of data, we inspect the dataset for duplicate rows"
   ]
  },
  {
   "cell_type": "code",
   "execution_count": 18,
   "metadata": {},
   "outputs": [
    {
     "data": {
      "text/plain": [
       "1"
      ]
     },
     "execution_count": 18,
     "metadata": {},
     "output_type": "execute_result"
    }
   ],
   "source": [
    "# Use the .duplicated() function to count number of duplicate rows in dataset\n",
    "movies_df.duplicated().sum()"
   ]
  },
  {
   "cell_type": "code",
   "execution_count": null,
   "metadata": {},
   "outputs": [],
   "source": []
  },
  {
   "cell_type": "code",
   "execution_count": null,
   "metadata": {},
   "outputs": [],
   "source": []
  },
  {
   "cell_type": "raw",
   "metadata": {},
   "source": [
    "# Generate random samples to inspect data within rows mentioned above \n",
    "movies_df.sample(10)"
   ]
  },
  {
   "cell_type": "markdown",
   "metadata": {},
   "source": [
    "Observation: The budget column contain rows that have value of 0. This is unusual, as movies require budget/funds to be produced.\n",
    "\n",
    "Next, let's find out how many of such rows exist"
   ]
  },
  {
   "cell_type": "code",
   "execution_count": null,
   "metadata": {},
   "outputs": [],
   "source": []
  },
  {
   "cell_type": "code",
   "execution_count": 31,
   "metadata": {},
   "outputs": [
    {
     "data": {
      "text/plain": [
       "5696"
      ]
     },
     "execution_count": 31,
     "metadata": {},
     "output_type": "execute_result"
    }
   ],
   "source": [
    "# Checking the number of 0 values in the 'budget' column\n",
    "movies_df[(movies_df['budget']==0)].shape[0]"
   ]
  },
  {
   "cell_type": "markdown",
   "metadata": {},
   "source": [
    "There are 5696 rows or movies with 0 budget value. This is a lot and will affect our analysis.\n",
    "\n",
    "Filling that amount of rows with mean or related statistical summaries can greatly skew results owing to the sheer number of rows to be filled.\n",
    "Therefore these rows will be dropped (whhen cleaning data)"
   ]
  },
  {
   "cell_type": "code",
   "execution_count": null,
   "metadata": {},
   "outputs": [],
   "source": []
  },
  {
   "cell_type": "markdown",
   "metadata": {},
   "source": [
    "\n",
    "## Data Cleaning\n",
    "\n",
    "\n",
    "> From the inspection conducted on the dataset in the previous sections, issues raised will be resolved in the following order:\n",
    " \n",
    "> 1. To bin columns not relevant to our analysis, so we can have more control over our dataset\n",
    "> 2. Remove the duplicate row found in the dataset\n",
    "> 3. Drop rows under budget column with 0 value\n",
    " "
   ]
  },
  {
   "cell_type": "markdown",
   "metadata": {},
   "source": [
    "### #1. Removing Irrelevant Columns\n",
    "> As stated earlier, we will be using some (10 precisely) columns like `popularity` `revenue` `budget`  `release_year` `vote_average`, etc. out of the 21 columns in the dataset.\n",
    "The remaining 11 columns will be dropped. \n",
    "\n",
    ">This can be done using the `.drop()` function."
   ]
  },
  {
   "cell_type": "code",
   "execution_count": null,
   "metadata": {},
   "outputs": [],
   "source": []
  },
  {
   "cell_type": "code",
   "execution_count": 99,
   "metadata": {},
   "outputs": [],
   "source": [
    "# Drop the columns, and then inspect the shape of the dataset afterwards. You shoud have 7 columns left to work with\n",
    "movies_df.drop(['imdb_id', 'cast', 'homepage', 'director', 'tagline', 'keywords', 'overview', 'production_companies', 'release_date', 'vote_count', 'revenue_adj'],axis =1,inplace = True)\n"
   ]
  },
  {
   "cell_type": "code",
   "execution_count": 100,
   "metadata": {},
   "outputs": [
    {
     "data": {
      "text/plain": [
       "(10866, 10)"
      ]
     },
     "execution_count": 100,
     "metadata": {},
     "output_type": "execute_result"
    }
   ],
   "source": [
    "# The specified columns have been dropped\n",
    "movies_df.shape"
   ]
  },
  {
   "cell_type": "code",
   "execution_count": null,
   "metadata": {},
   "outputs": [],
   "source": []
  },
  {
   "cell_type": "markdown",
   "metadata": {},
   "source": [
    "### #2. Deleting Duplicate Rows\n",
    "\n",
    "> Since there is only one duplicate row in the data set, it can be dropped.\n",
    "This is done using the `.drop_duplicates()` function"
   ]
  },
  {
   "cell_type": "code",
   "execution_count": 101,
   "metadata": {},
   "outputs": [
    {
     "data": {
      "text/plain": [
       "(10865, 10)"
      ]
     },
     "execution_count": 101,
     "metadata": {},
     "output_type": "execute_result"
    }
   ],
   "source": [
    "# Drop duplicate rows and inspect the shape. N/B: There are now 10865 rows \n",
    "# as compared to the initial 10866 rows.\n",
    "movies_df.drop_duplicates(inplace = True)\n",
    "movies_df.shape"
   ]
  },
  {
   "cell_type": "code",
   "execution_count": null,
   "metadata": {},
   "outputs": [],
   "source": []
  },
  {
   "cell_type": "markdown",
   "metadata": {},
   "source": [
    "### #3. Drop rows with Unusual/Incorrect Values\n",
    "> As discusssed earlier in the wrangling phase, certain columns, like the `budget` column has a lot of rows where the value is filled as 0. These rows will consequently be deleted, as working with them might lead to inconclusive/wrong results."
   ]
  },
  {
   "cell_type": "code",
   "execution_count": 53,
   "metadata": {},
   "outputs": [],
   "source": [
    "# Drop rows which have 0 value under budget column, and then inspect shape.\n",
    "movies_df.drop(movies_df.index[movies_df['budget']==0],axis =0,inplace = True)"
   ]
  },
  {
   "cell_type": "code",
   "execution_count": 55,
   "metadata": {},
   "outputs": [
    {
     "data": {
      "text/plain": [
       "(5169, 7)"
      ]
     },
     "execution_count": 55,
     "metadata": {},
     "output_type": "execute_result"
    }
   ],
   "source": [
    "movies_df.shape"
   ]
  },
  {
   "cell_type": "markdown",
   "metadata": {},
   "source": [
    "We are now left with 7 columns of 5169 which are relevant to our investigations to work with."
   ]
  },
  {
   "cell_type": "code",
   "execution_count": null,
   "metadata": {},
   "outputs": [],
   "source": []
  },
  {
   "cell_type": "markdown",
   "metadata": {},
   "source": [
    "<a id='eda'></a>\n",
    "## Exploratory Data Analysis\n",
    "\n",
    "\n"
   ]
  },
  {
   "cell_type": "code",
   "execution_count": null,
   "metadata": {},
   "outputs": [],
   "source": []
  },
  {
   "cell_type": "code",
   "execution_count": null,
   "metadata": {},
   "outputs": [],
   "source": [
    "#few extra imports for visualizations\n",
    "pip install bokeh\n",
    "\n",
    "import bokeh.io\n",
    "from bokeh.resources import INLINE\n",
    "bokeh.io.output_notebook(INLINE)\n",
    "\n",
    "from bokeh.palettes import Spectral7\n",
    "from bokeh.models import Title\n",
    "\n",
    "from bokeh.plotting import figure, output_notebook, show\n",
    "from bokeh.io import output_notebook"
   ]
  },
  {
   "cell_type": "markdown",
   "metadata": {
    "collapsed": true
   },
   "source": [
    "## Research Question 1 - In what ways does a movie's budget relate to its revenue, popularity, and vote average?"
   ]
  },
  {
   "cell_type": "markdown",
   "metadata": {},
   "source": [
    "In this analysis, we try to examine what relationship(s) exist between a movie's popularity or vote average and it's budget.\n",
    "We will also seek to estableish what correlation exist between a movie's budget and it's revenue.\n",
    "\n"
   ]
  },
  {
   "cell_type": "code",
   "execution_count": null,
   "metadata": {},
   "outputs": [],
   "source": []
  },
  {
   "cell_type": "markdown",
   "metadata": {},
   "source": [
    "### Comparing budget and revenue\n",
    "\n",
    "Here, we seek to establish iif there is a strong relationship between movie revenue and budget. \n",
    "**Pandas** and **bokeh** will be used predominantly for visualizations."
   ]
  },
  {
   "cell_type": "code",
   "execution_count": 96,
   "metadata": {},
   "outputs": [
    {
     "data": {
      "text/plain": [
       "<AxesSubplot:>"
      ]
     },
     "execution_count": 96,
     "metadata": {},
     "output_type": "execute_result"
    },
    {
     "data": {
      "image/png": "[encoded data removed]",
      "text/plain": [
       "<Figure size 432x288 with 1 Axes>"
      ]
     },
     "metadata": {
      "needs_background": "light"
     },
     "output_type": "display_data"
    }
   ],
   "source": [
    "movies_df['budget'].plot(kind = 'box')"
   ]
  },
  {
   "cell_type": "markdown",
   "metadata": {},
   "source": [
    "Potentially high amount of outliers."
   ]
  },
  {
   "cell_type": "code",
   "execution_count": 2,
   "metadata": {},
   "outputs": [],
   "source": []
  },
  {
   "cell_type": "code",
   "execution_count": 8,
   "metadata": {},
   "outputs": [],
   "source": [
    "# Create a scatter plot for the variables\n",
    "\n",
    "# Define plot parameters and assign to a variable, plot.\n",
    "plot = figure(\n",
    "    title= 'Comparing Budget and Revenue',\n",
    "    width=500, height=300)\n",
    "\n",
    "plot.add_layout(Title(text=\"Budget\", align=\"center\"), \"below\")\n",
    "plot.add_layout(Title(text=\"Revenue\", align=\"center\"), \"left\")\n",
    "\n",
    "\n",
    "# Call '.circle' method in bokeh and define its  parameters.\n",
    "plot.circle(movies_df.budget, movies_df.revenue, size=12, alpha=0.2)\n"
   ]
  },
  {
   "cell_type": "code",
   "execution_count": 9,
   "metadata": {},
   "outputs": [
    {
     "data": {
      "text/html": [
       "<div style=\"display: table;\"><div style=\"display: table-row;\"><div style=\"display: table-cell;\"><b title=\"bokeh.models.renderers.GlyphRenderer\">GlyphRenderer</b>(</div><div style=\"display: table-cell;\">id&nbsp;=&nbsp;'1073', <span id=\"1076\" style=\"cursor: pointer;\">&hellip;)</span></div></div><div class=\"1075\" style=\"display: none;\"><div style=\"display: table-cell;\"></div><div style=\"display: table-cell;\">coordinates&nbsp;=&nbsp;None,</div></div><div class=\"1075\" style=\"display: none;\"><div style=\"display: table-cell;\"></div><div style=\"display: table-cell;\">data_source&nbsp;=&nbsp;ColumnDataSource(id='1069', ...),</div></div><div class=\"1075\" style=\"display: none;\"><div style=\"display: table-cell;\"></div><div style=\"display: table-cell;\">glyph&nbsp;=&nbsp;Circle(id='1070', ...),</div></div><div class=\"1075\" style=\"display: none;\"><div style=\"display: table-cell;\"></div><div style=\"display: table-cell;\">group&nbsp;=&nbsp;None,</div></div><div class=\"1075\" style=\"display: none;\"><div style=\"display: table-cell;\"></div><div style=\"display: table-cell;\">hover_glyph&nbsp;=&nbsp;None,</div></div><div class=\"1075\" style=\"display: none;\"><div style=\"display: table-cell;\"></div><div style=\"display: table-cell;\">js_event_callbacks&nbsp;=&nbsp;{},</div></div><div class=\"1075\" style=\"display: none;\"><div style=\"display: table-cell;\"></div><div style=\"display: table-cell;\">js_property_callbacks&nbsp;=&nbsp;{},</div></div><div class=\"1075\" style=\"display: none;\"><div style=\"display: table-cell;\"></div><div style=\"display: table-cell;\">level&nbsp;=&nbsp;'glyph',</div></div><div class=\"1075\" style=\"display: none;\"><div style=\"display: table-cell;\"></div><div style=\"display: table-cell;\">muted&nbsp;=&nbsp;False,</div></div><div class=\"1075\" style=\"display: none;\"><div style=\"display: table-cell;\"></div><div style=\"display: table-cell;\">muted_glyph&nbsp;=&nbsp;Circle(id='1072', ...),</div></div><div class=\"1075\" style=\"display: none;\"><div style=\"display: table-cell;\"></div><div style=\"display: table-cell;\">name&nbsp;=&nbsp;None,</div></div><div class=\"1075\" style=\"display: none;\"><div style=\"display: table-cell;\"></div><div style=\"display: table-cell;\">nonselection_glyph&nbsp;=&nbsp;Circle(id='1071', ...),</div></div><div class=\"1075\" style=\"display: none;\"><div style=\"display: table-cell;\"></div><div style=\"display: table-cell;\">selection_glyph&nbsp;=&nbsp;'auto',</div></div><div class=\"1075\" style=\"display: none;\"><div style=\"display: table-cell;\"></div><div style=\"display: table-cell;\">subscribed_events&nbsp;=&nbsp;[],</div></div><div class=\"1075\" style=\"display: none;\"><div style=\"display: table-cell;\"></div><div style=\"display: table-cell;\">syncable&nbsp;=&nbsp;True,</div></div><div class=\"1075\" style=\"display: none;\"><div style=\"display: table-cell;\"></div><div style=\"display: table-cell;\">tags&nbsp;=&nbsp;[],</div></div><div class=\"1075\" style=\"display: none;\"><div style=\"display: table-cell;\"></div><div style=\"display: table-cell;\">view&nbsp;=&nbsp;CDSView(id='1074', ...),</div></div><div class=\"1075\" style=\"display: none;\"><div style=\"display: table-cell;\"></div><div style=\"display: table-cell;\">visible&nbsp;=&nbsp;True,</div></div><div class=\"1075\" style=\"display: none;\"><div style=\"display: table-cell;\"></div><div style=\"display: table-cell;\">x_range_name&nbsp;=&nbsp;'default',</div></div><div class=\"1075\" style=\"display: none;\"><div style=\"display: table-cell;\"></div><div style=\"display: table-cell;\">y_range_name&nbsp;=&nbsp;'default')</div></div></div>\n",
       "<script>\n",
       "(function() {\n",
       "  let expanded = false;\n",
       "  const ellipsis = document.getElementById(\"1076\");\n",
       "  ellipsis.addEventListener(\"click\", function() {\n",
       "    const rows = document.getElementsByClassName(\"1075\");\n",
       "    for (let i = 0; i < rows.length; i++) {\n",
       "      const el = rows[i];\n",
       "      el.style.display = expanded ? \"none\" : \"table-row\";\n",
       "    }\n",
       "    ellipsis.innerHTML = expanded ? \"&hellip;)\" : \"&lsaquo;&lsaquo;&lsaquo;\";\n",
       "    expanded = !expanded;\n",
       "  });\n",
       "})();\n",
       "</script>\n"
      ],
      "text/plain": [
       "GlyphRenderer(id='1073', ...)"
      ]
     },
     "execution_count": 9,
     "metadata": {},
     "output_type": "execute_result"
    }
   ],
   "source": []
  },
  {
   "cell_type": "code",
   "execution_count": 11,
   "metadata": {},
   "outputs": [
    {
     "data": {
      "text/html": [
       "\n",
       "\n",
       "\n",
       "\n",
       "\n",
       "\n",
       "  <div class=\"bk-root\" id=\"bc872e04-83f7-418c-8426-d056d8462638\" data-root-id=\"1036\"></div>\n"
      ]
     },
     "metadata": {},
     "output_type": "display_data"
    },
    {
     "data": {
      "application/javascript": [
       "(function(root) {\n",
       "  function embed_document(root) {\n",
       "    \n",
       "  const docs_json = {\"c1e22160-094c-4616-a6da-4ac82d05d9cb\":{\"defs\":[],\"roots\":{\"references\":[{\"attributes\":{\"below\":[{\"id\":\"1047\"},{\"id\":\"1077\"}],\"center\":[{\"id\":\"1050\"},{\"id\":\"1054\"}],\"height\":300,\"left\":[{\"id\":\"1051\"},{\"id\":\"1078\"}],\"renderers\":[{\"id\":\"1073\"}],\"title\":{\"id\":\"1037\"},\"toolbar\":{\"id\":\"1062\"},\"width\":500,\"x_range\":{\"id\":\"1039\"},\"x_scale\":{\"id\":\"1043\"},\"y_range\":{\"id\":\"1041\"},\"y_scale\":{\"id\":\"1045\"}},\"id\":\"1036\",\"subtype\":\"Figure\",\"type\":\"Plot\"},{\"attributes\":{\"axis\":{\"id\":\"1051\"},\"coordinates\":null,\"dimension\":1,\"group\":null,\"ticker\":null},\"id\":\"1054\",\"type\":\"Grid\"},{\"attributes\":{},\"id\":\"1043\",\"type\":\"LinearScale\"},{\"attributes\":{\"bottom_units\":\"screen\",\"coordinates\":null,\"fill_alpha\":0.5,\"fill_color\":\"lightgrey\",\"group\":null,\"left_units\":\"screen\",\"level\":\"overlay\",\"line_alpha\":1.0,\"line_color\":\"black\",\"line_dash\":[4,4],\"line_width\":2,\"right_units\":\"screen\",\"syncable\":false,\"top_units\":\"screen\"},\"id\":\"1061\",\"type\":\"BoxAnnotation\"},{\"attributes\":{},\"id\":\"1039\",\"type\":\"DataRange1d\"},{\"attributes\":{},\"id\":\"1081\",\"type\":\"BasicTickFormatter\"},{\"attributes\":{},\"id\":\"1060\",\"type\":\"HelpTool\"},{\"attributes\":{\"fill_alpha\":{\"value\":0.2},\"fill_color\":{\"value\":\"#1f77b4\"},\"hatch_alpha\":{\"value\":0.2},\"line_alpha\":{\"value\":0.2},\"line_color\":{\"value\":\"#1f77b4\"},\"size\":{\"value\":12},\"x\":{\"field\":\"x\"},\"y\":{\"field\":\"y\"}},\"id\":\"1072\",\"type\":\"Circle\"},{\"attributes\":{\"axis\":{\"id\":\"1047\"},\"coordinates\":null,\"group\":null,\"ticker\":null},\"id\":\"1050\",\"type\":\"Grid\"},{\"attributes\":{},\"id\":\"1048\",\"type\":\"BasicTicker\"},{\"attributes\":{},\"id\":\"1082\",\"type\":\"AllLabels\"},{\"attributes\":{\"coordinates\":null,\"data_source\":{\"id\":\"1069\"},\"glyph\":{\"id\":\"1070\"},\"group\":null,\"hover_glyph\":null,\"muted_glyph\":{\"id\":\"1072\"},\"nonselection_glyph\":{\"id\":\"1071\"},\"view\":{\"id\":\"1074\"}},\"id\":\"1073\",\"type\":\"GlyphRenderer\"},{\"attributes\":{\"coordinates\":null,\"formatter\":{\"id\":\"1084\"},\"group\":null,\"major_label_policy\":{\"id\":\"1085\"},\"ticker\":{\"id\":\"1048\"}},\"id\":\"1047\",\"type\":\"LinearAxis\"},{\"attributes\":{\"source\":{\"id\":\"1069\"}},\"id\":\"1074\",\"type\":\"CDSView\"},{\"attributes\":{\"fill_alpha\":{\"value\":0.2},\"fill_color\":{\"value\":\"#1f77b4\"},\"hatch_alpha\":{\"value\":0.2},\"line_alpha\":{\"value\":0.2},\"line_color\":{\"value\":\"#1f77b4\"},\"size\":{\"value\":12},\"x\":{\"field\":\"x\"},\"y\":{\"field\":\"y\"}},\"id\":\"1070\",\"type\":\"Circle\"},{\"attributes\":{},\"id\":\"1041\",\"type\":\"DataRange1d\"},{\"attributes\":{\"coordinates\":null,\"group\":null,\"text\":\"Comparing Budget and Revenue\"},\"id\":\"1037\",\"type\":\"Title\"},{\"attributes\":{\"tools\":[{\"id\":\"1055\"},{\"id\":\"1056\"},{\"id\":\"1057\"},{\"id\":\"1058\"},{\"id\":\"1059\"},{\"id\":\"1060\"}]},\"id\":\"1062\",\"type\":\"Toolbar\"},{\"attributes\":{},\"id\":\"1045\",\"type\":\"LinearScale\"},{\"attributes\":{},\"id\":\"1084\",\"type\":\"BasicTickFormatter\"},{\"attributes\":{},\"id\":\"1052\",\"type\":\"BasicTicker\"},{\"attributes\":{\"data\":{\"x\":[150000000,150000000,110000000,200000000,190000000,135000000,155000000,108000000,74000000,175000000,245000000,176000003,15000000,88000000,280000000,44000000,48000000,130000000,95000000,160000000,190000000,30000000,110000000,40000000,28000000,150000000,68000000,81000000,20000000,61000000,0,49000000,29000000,40000000,58000000,6000000,0,175000000,50000000,11000000,28000000,90000000,30000000,75000000,25000000,10000000,135000000,12000000,30000000,4000000,11800000,35000000,55000000,60000000,105000000,20000000,26000000,60000000,15000000,70000000,30000000,120000001,3500000,65000000,50100000,35000000,100000000,20000000,35000000,35000000,13000000,25000000,0,150000000,0,0,99000000,35000000,25000000,2500000,34000000,80000000,17000000,35000000,11000000,31000000,35000000,4000000,0,50000000,5000000,50000000,0,10000000,64000000,0,11930000,8500000,10000000,30000000,0,0,4000000,0,30000000,23000000,15000000,5000000,53000000,8900000,15000000,20000000,5000000,700000,28000000,11000000,0,30000000,12000000,0,25000000,55000000,0,14800000,10000000,0,15000000,19500000,0,74000000,0,20000000,0,11000000,0,40000000,1000000,35000000,10000000,0,0,6000000,40000000,0,8000000,1800000,0,0,0,20000000,2000000,0,0,0,12000000,11000000,15000000,18000000,0,630019,12000000,0,10000000,40000000,0,60000000,0,25000000,14000000,0,6000000,0,0,0,0,0,0,0,0,10000000,20000000,0,0,37000000,26000000,0,28000000,0,0,0,0,0,0,0,11000000,0,0,0,0,0,7000000,0,3000000,9600000,0,10000000,15000000,2240000,1000000,13000000,8000000,14000000,0,4000000,0,0,0,0,0,0,0,0,0,8000000,0,3300000,0,8000000,0,35000000,2000000,0,0,7000000,12000000,0,0,0,3000000,6000000,0,0,100000,0,0,0,10000000,0,0,0,0,0,0,0,0,0,21000000,0,0,0,0,0,0,0,0,20000000,0,0,5300000,0,9000000,0,0,0,13000000,0,0,0,0,0,0,0,0,0,0,0,0,5000000,0,10000000,0,6000000,0,0,0,0,0,3000000,0,0,1000000,0,0,0,447524,0,0,0,0,1950000,0,1000000,0,0,0,0,0,0,0,0,0,0,0,0,0,5000000,0,6000000,0,0,4400000,10000000,0,0,0,0,0,0,0,0,0,0,0,0,0,0,0,0,0,0,2000000,0,0,0,0,0,0,27000000,0,0,0,0,0,0,0,0,0,0,0,0,0,0,0,0,0,0,0,0,0,0,5000000,0,0,3500000,0,0,0,0,700000,500000,0,0,0,2000000,0,0,0,0,0,1000000,0,0,0,0,0,0,20000000,0,0,600000,0,0,0,0,0,0,0,7500000,0,0,0,0,0,0,0,0,1500000,1500000,0,0,0,0,0,0,0,0,0,0,0,0,0,0,0,0,0,0,0,0,0,0,0,0,0,0,0,0,0,0,0,0,650000,0,0,0,0,0,0,0,2500000,0,0,0,0,0,0,0,0,0,0,0,0,0,9500000,0,0,3000000,0,0,3400000,0,0,0,3000000,0,0,0,0,0,0,0,0,0,0,0,0,1000000,0,0,0,0,0,0,0,0,0,1300000,0,0,0,0,0,0,0,0,0,0,0,0,0,0,0,0,0,0,0,0,0,3000000,0,0,0,0,0,0,0,0,0,0,0,0,0,0,0,0,0,0,0,0,0,0,0,0,0,0,0,0,0,0,0,0,1900000,0,0,0,0,0,0,0,0,0,0,0,0,13500000,0,0,10,0,0,0,0,0,0,0,0,0,1000000,0,0,0,0,0,0,0,0,0,0,0,0,0,2000000,0,0,0,0,0,0,0,0,0,0,0,0,0,0,0,0,0,0,165000000,170000000,170000000,20000000,125000000,250000000,165000000,14000000,34000000,18000000,61000000,68000000,127000000,85000000,250000000,40000000,125000000,40000000,8500000,210000000,30000000,3300000,170000000,55000000,42000000,200000000,178000000,44000000,58800000,140000000,160000000,180000000,15000000,5000000,145000000,2000000,90000000,60000000,13000000,95000000,15000000,17000000,70000000,132000000,50000000,110000000,25000000,50000000,28000000,55000000,7000000,11000000,9000000,16000000,4000000,20000000,100000000,125000000,50000000,12000000,40000000,18000000,11000000,45000000,0,12000000,0,25000000,0,20000000,60000000,50000000,5500000,7000000,0,12600000,120000000,100000000,40000000,145000000,0,65000000,0,103000000,40000000,0,70000000,65000000,20000000,4900000,17000000,0,15000000,130000000,26000000,65000000,0,50000000,13000000,66000000,0,0,22000000,60000000,10000000,18000000,0,0,0,4000000,0,50000000,25000000,28000000,50000000,0,35000000,0,0,0,1000000,13200000,5000000,5000000,24000000,0,20000000,12250000,24000000,15000000,0,15000000,0,6500000,0,0,65000000,8000000,0,27000000,28000000,2000000,20000000,0,0,0,10000000,3000000,0,0,0,60000000,0,0,5000000,0,0,0,0,22500000,5000000,0,0,28000000,19800000,16000000,0,0,0,0,9000000,0,8500000,0,40000000,12500000,25000000,5500000,6700000,0,0,0,0,13300000,6000000,0,22000000,0,0,6000000,3500000,8500000,0,0,15000000,0,0,0,0,0,0,30000000,2000000,0,1000000,5500000,0,15000000,200000,21000000,15000000,0,0,6500000,30000000,6600000,5000000,0,0,0,0,5000000,1000000,0,0,2000000,0,36000000,0,0,0,0,1000000,0,0,50000000,0,0,20000000,0,0,2800000,0,0,0,600000,0,0,0,6000000,0,0,12000000,5000000,10000000,0,0,0,0,0,0,0,0,0,0,0,0,70000000,0,0,5000000,0,30000000,0,0,0,18000000,0,0,0,0,2400000,0,0,0,0,0,0,3150000,0,0,0,0,0,0,5500000,0,2700000,0,1200000,0,0,0,0,0,0,0,0,8000000,0,0,6000000,0,1000000,0,318000,30000000,0,7000000,0,0,0,0,0,0,5000000,0,13000000,0,0,0,0,0,3500000,0,0,2500000,0,0,0,0,25000000,0,0,0,0,0,25000000,0,0,0,2000000,10,0,12700000,0,4000000,5000000,0,0,0,0,0,0,0,1500000,0,325927,0,0,0,0,0,0,0,500000,0,5000000,0,0,0,0,0,0,0,0,0,0,10000000,0,0,0,0,0,17000000,0,0,0,0,0,0,0,0,0,0,0,0,0,0,0,0,0,0,7000000,0,0,0,0,0,0,0,0,5000000,0,0,0,0,0,1000000,0,0,0,0,0,0,0,0,3000000,0,0,5000000,0,0,0,5000000,0,0,0,0,0,0,0,0,0,0,0,0,7000000,0,0,0,0,0,0,10000000,0,0,0,0,0,6000000,0,0,0,0,0,0,0,0,0,0,0,0,0,0,0,0,0,0,0,0,12000000,2000000,0,0,4000000,0,0,156660,0,0,0,8000000,0,0,0,950000,0,0,0,6000000,0,18,6900000,0,0,0,0,0,0,0,0,1,0,0,0,0,0,0,0,0,0,0,0,0,0,0,0,0,0,0,0,0,0,0,0,0,0,0,0,5900000,0,0,0,0,0,0,0,0,500000,0,0,0,0,0,0,0,0,0,8000000,0,0,0,0,150000,0,1400000,0,0,117,0,0,18000000,0,0,0,0,0,0,0,0,16000000,0,0,0,0,0,0,0,0,0,0,0,0,0,0,0,0,3000000,0,7000000,0,0,0,0,0,0,0,0,0,0,0,0,0,2000000,1000000,0,0,0,0,0,0,750000,0,0,0,0,0,0,0,3000000,0,0,0,0,0,0,0,0,0,0,0,0,200000,0,0,0,0,0,0,3250000,0,0,0,0,0,0,0,0,0,0,0,0,0,0,0,8500000,0,0,0,0,0,0,0,5,0,0,0,0,0,0,0,2489400,0,0,0,0,0,0,0,11000000,14000000,1200000,4000000,10000000,20000000,22000000,0,0,3500000,0,3500000,3400000,0,0,5500000,6000000,0,0,900000,0,0,14000000,6000000,0,10000,0,0,3000000,0,0,0,0,0,6000000,22000000,810000,0,1500000,500000,0,1200000,0,230000,0,600000,0,0,0,0,0,0,0,0,530000,200000,0,237000000,70000000,35000000,250000000,175000000,150000000,200000000,30000000,90000000,7500000,90000000,35000000,130000000,200000000,30000000,150000000,105000000,29000000,23600000,50000000,40000000,175000000,40000000,0,38000000,100000000,40000000,60000000,150000000,20000000,200000000,0,65000000,26000000,16000000,53000000,30000000,20000000,33000000,0,30000000,26000000,50000000,5000000,150000000,0,100000000,18500000,40000000,0,50000000,0,47000000,70000000,26000000,32000000,175000000,3000000,40000000,15000000,80000000,0,16000000,20000000,15000000,40000000,75000000,4500000,30000000,10000000,60000000,16000000,14700000,41000000,22000000,50000000,27000000,50000000,0,20000000,39000000,0,11000000,0,18000000,38000000,17000000,11000000,35000000,7000000,14000000,0,40000000,0,0,13000000,13000000,7000000,20000000,8000000,9000000,150000000,24000000,15000000,40000000,20000000,100000000,85000000,500000,0,18000000,18000000,100000000,60000000,70000000,0,0,0,3500000,8000000,60000000,4500000,12000000,0,15000000,87000000,0,0,35000000,0,70000000,8000000,8000000,25000000,30000000,20000000,20000000,0,10000000,0,0,40000000,0,9000000,7500000,75000000,0,25000000,65000000,50000000,12000000,0,14000000,85000000,0,0,20000000,12000000,25000000,40000000,15000000,0,0,22000000,35000000,0,15000000,8000000,45000000,12000000,0,0,3400000,0,4300000,3000000,10000000,6000000,15000000,0,0,0,800000,78146652,3500000,0,10000000,5100000,0,0,0,8500000,0,0,10000000,0,9500000,8000000,0,3500000,0,0,80000000,0,6500000,0,6300000,17000000,17000000,30000000,0,0,0,60000000,0,19000000,6000000,25000000,0,7000000,0,7300000,80000000,0,3700000,0,50000000,35000000,0,9000000,0,0,20000000,15000000,4500000,10000000,0,0,0,15000000,6400000,5060730,0,60000000,0,0,0,10000000,0,0,0,45000000,0,4000000,0,10000000,0,0,150000000,0,0,10000000,4000000,0,0,0,0,2900000,0,6000000,0,0,40000000,0,0,0,0,0,0,0,25000000,0,0,0,35000000,0,425000,0,8000000,25000000,40000000,0,0,0,7000000,0,0,0,0,55000000,0,0,0,0,0,0,10000000,10000000,2011799,0,100000000,8500000,20000000,12500000,5000000,20000000,0,0,0,0,0,0,14000000,0,0,0,0,0,4500000,0,0,0,6500000,0,0,0,23000000,0,10000000,0,0,0,20000000,0,0,0,0,75,10000000,0,1700000,10000000,0,0,0,0,0,0,6500000,0,0,0,0,0,0,0,0,0,0,0,15000000,5000000,1000000,0,0,40000000,0,0,0,0,0,0,0,0,0,21000000,0,0,7000000,0,0,10000000,0,0,2000000,0,10000000,15000000,0,0,0,0,0,0,0,0,0,0,0,0,0,2500000,0,1500000,7000000,0,0,0,0,12500000,0,0,42000000,0,0,0,0,0,0,12000000,0,5000,1500000,0,7500000,0,0,0,0,0,3200000,0,0,58000000,0,5000000,0,0,0,0,0,0,0,0,0,0,3500000,3500000,0,0,0,0,0,0,9000000,108,0,250000,0,0,0,0,0,0,0,0,0,0,0,0,25000000,0,0,0,0,31192,3250000,0,0,0,0,10000000,0,0,6000000,0,0,0,0,0,0,0,0,0,0,0,0,0,0,0,0,0,0,0,0,0,0,0,0,0,0,0,0,0,0,0,0,0,0,3500,0,0,0,160000000,200000000,200000000,13000000,250000000,69000000,80000000,165000000,80000000,170000000,260000000,200000000,110000000,18000000,8000000,155000000,28000000,100000000,150000000,200000000,38000000,125000000,150000000,30000000,40000000,60000000,100000000,40000000,95000000,100000000,165000000,25000000,110000000,58000000,20000000,80000000,80000000,55000000,37000000,20000000,68000000,130000000,150000000,100000000,0,1500000,30000000,15000000,30000000,30000000,32000000,7000000,117000000,3000000,60000000,1000000,40000000,19000000,100000000,112000000,35000000,44000000,19000000,10000000,52000000,25000000,0,20000000,40000000,65000000,8000000,52000000,45000000,8000000,30000000,35000000,25000000,25000000,40000000,0,47000000,65000000,0,22000000,20000000,2000000,75000000,26000000,0,100000000,20000000,35000000,36000000,21800000,20000000,14000000,80000000,32000000,55000000,15000000,32000000,24000000,20000000,3000000,15000000,0,20000000,0,30000000,11000000,500000,0,38000000,12000000,3200000,0,0,22000000,22000000,15000000,2000000,24000000,40000000,12500000,90000000,1800000,48000000,0,22000000,10000000,0,1987650,69000000,0,13000000,0,4000000,0,10000000,20000000,0,7500000,15000000,2000000,0,7000000,85000000,0,10000000,0,150000000,0,120000000,20000000,0,0,0,0,500000,0,28000000,20000000,0,0,12000000,13000000,25000000,50000000,10000000,25000000,30000000,30000000,25000000,4500000,21000000,0,0,7000000,5000000,50000000,0,0,0,0,70000000,0,0,3000000,18000000,0,50000000,0,0,8500000,0,0,8000000,0,5000000,0,20000000,0,0,10000,5000000,8000000,20000000,22000000,0,0,0,0,0,0,0,80000000,0,0,5773100,0,0,0,3500000,2500000,20000000,0,5800000,4466000,0,3100000,0,1400000,0,550000,10000000,0,0,0,0,15000000,500000,0,0,0,10000000,27000000,0,0,0,0,0,0,31000000,0,10000000,0,0,0,15000000,0,0,7000000,8000000,0,0,0,0,0,14000000,0,0,104002432,100000,0,30000000,0,0,80000000,0,0,0,0,4600000,4000000,0,2000000,0,0,30000,35000000,12500000,0,2500000,2500000,0,120000000,0,2500000,0,0,0,20000000,0,0,0,0,0,500000,30000,3000000,65000,12500000,0,0,2500000,0,2500000,0,650000,0,13000000,0,0,0,0,425000000,0,10000000,0,0,0,0,4400000,0,0,10000000,967686,0,7347125,0,0,0,0,0,0,0,0,0,0,0,0,0,2000000,0,0,0,1500000,0,7000000,0,0,0,0,0,4500000,2000000,0,0,0,0,0,0,5000000,0,2300000,0,0,0,0,0,0,0,0,0,7000000,0,0,0,1300000,0,0,0,0,0,0,12000000,0,0,0,0,0,0,0,0,7200000,0,0,0,0,0,0,0,0,3167000,0,0,0,0,0,20000000,0,0,0,0,60000000,300000,0,0,0,1100000,0,0,0,0,0,0,0,2400000,0,0,10000000,0,0,0,3000000,0,0,0,0,0,0,0,0,0,0,0,0,0,0,10000000,1250000,0,10,0,0,0,0,0,35000000,0,0,0,0,0,0,0,0,5000,0,3,0,0,0,0,0,0,900000,0,0,0,63000000,63000000,15000000,115000000,80000000,60000000,40000000,135000000,10500000,100000000,0,11000000,66000000,90000000,16000000,42000000,33000000,2000000,90000000,45000000,65000000,13000000,80000000,133000000,73000000,170000000,160000000,100000000,24000000,70000000,60000000,21000000,90000000,70000000,10000000,70000000,6000000,10000000,6000000,100000000,25000,38000000,50000000,16000000,34200000,32000000,40000000,10000000,40000000,0,80000000,75000000,35000000,80000000,80000000,60000000,29000000,12000000,0,75000000,37000000,51000000,75000000,40000000,27000000,34000000,68000000,0,80000000,6500000,25000000,80,0,75000000,82000000,25000000,0,19000000,5000000,0,0,48000000,64000000,15000000,23000000,65000000,21000000,21500000,10000000,0,20000000,25000000,75000000,0,0,45000000,0,0,0,20000000,33000000,5000000,70000000,0,80000000,23000000,75000000,65000000,11000000,10000000,25,50000000,8000000,11000000,0,24000000,10000000,14000000,0,0,17000000,0,25000000,55000000,38000000,15000000,600000,7000000,55000000,13000000,0,0,0,0,30000000,0,0,0,0,0,0,10000000,0,0,9000000,6000000,27000000,0,0,0,50000000,28000000,50000000,21000000,6000000,0,6000000,12000000,75000000,10000000,0,15000000,60000000,35000000,0,0,0,20000000,24000000,23000000,0,1700000,0,0,0,38000000,0,3000000,0,0,13000000,0,25000000,0,14000000,10000000,0,7000000,0,0,0,12000000,0,0,0,4250000,2500000,70000000,0,0,0,450000,12000000,0,0,0,0,0,3800000,1,9210000,0,0,0,0,12000000,0,0,0,0,0,0,0,0,93000000,125000000,15000000,6000000,115000000,100000000,60000000,25000000,85000000,140000000,98000000,120000000,115000000,60000000,30000000,37000000,52500000,100000000,21000000,53000000,70000000,92000000,18000000,65000000,28000000,16000000,45000000,90000000,45000000,17000000,25000000,22000000,28000000,60000000,68000000,0,25000000,92000000,102000000,40000000,0,0,30000000,137000000,0,42000000,70000000,40000000,10000000,0,0,35000000,72000000,60000000,3000000,35000000,48000000,19800000,11000000,57000000,23000000,22000000,0,17000000,0,0,57000000,0,48000000,23000000,0,50000000,0,21150000,11000000,0,53000000,18000000,0,31000000,0,30000000,60000000,0,32000000,80000000,10000000,35000000,107000000,0,1500000,68000000,4000000,17700000,0,50000000,21000000,40000000,12000000,0,11000000,0,72000000,62000000,0,100000,0,45000000,2079000,28000000,22000000,0,48000000,10000000,75000000,0,49000000,15000000,14000000,0,38000000,6000000,13000000,0,0,0,1700000,35000000,35000000,0,0,75000000,22000000,15000000,0,0,13000000,0,0,94000000,24000000,0,500000,0,35000000,87000000,75000000,0,13000000,10000000,0,40000000,0,0,0,1500000,0,0,0,0,34000000,5000000,0,7000000,35000000,0,0,1500000,12000000,75000000,0,0,250000,0,0,0,0,11000000,38000000,0,0,0,0,0,0,0,0,93000000,0,22000000,57000000,0,0,0,0,0,0,0,0,1000000,0,0,0,40000000,7000000,5000000,0,700000,25000000,0,0,0,6000000,11000000,0,0,10000000,0,0,0,0,7000000,15000000,5000000,0,4800000,0,0,0,0,0,0,16000000,0,0,0,0,0,0,0,0,165000,185000000,180000000,140000000,25000000,185000000,37000000,200000000,130000000,19000000,52000000,150000000,145000000,150000000,33000000,150000000,85000000,85000000,45000000,75000000,48000000,15000000,30000000,75000000,105000000,150000000,15000000,35000000,225000000,92000000,80000000,12500000,50000000,45000000,23000000,80000000,9000000,55000000,25000000,150000000,30000000,130000000,70000000,60000000,70000000,37000000,30000000,60000000,35000000,20000000,65000000,0,70000000,20000000,27000000,6000000,80000000,20500000,35000000,35000000,40000000,24000000,80000000,28000000,0,0,0,32000000,70000000,0,15000000,55000000,90000000,12000000,0,0,2900000,0,0,20000000,9000000,80000000,5000000,7000000,25000000,0,8500000,10800000,62000000,120000000,15000000,85000000,0,0,55000000,30000000,0,60000000,15000000,22000000,90000000,32000000,0,35000000,0,0,9000000,7000000,20000000,50000000,30000000,20000000,0,0,55000000,40000000,35000000,0,25000000,18000000,12000000,13000000,45000000,30000000,25000000,40000000,21000000,0,25000000,60000000,0,11500000,0,20000000,18000000,60000000,30000000,12000000,5000000,0,2000000,8,0,65000000,15000000,0,60000000,0,6100000,35000000,11000000,10000000,15000000,20000000,20000000,35000000,0,5000000,0,0,8000000,0,0,0,0,0,0,0,8500000,0,30000000,0,0,6000000,30000000,0,7000000,0,0,20000000,0,0,20000000,60000000,0,12000000,0,3500000,8000000,20000000,0,1,0,0,6000000,0,0,0,0,0,3500000,12000000,25000000,27000000,40000000,0,3500000,16000000,10000000,0,0,2000000,0,0,10000000,37000000,0,20000000,0,0,0,0,0,150000,18000000,0,0,0,0,0,1000000,14100000,0,0,0,0,8376800,0,30000000,0,3000000,0,5000000,6000000,25000000,0,0,0,10000000,12000000,0,10000000,0,0,15400000,12000000,0,0,250000,11500000,25000000,0,0,45000000,0,0,0,0,6000000,20000000,19000000,0,0,15000000,0,8000000,0,0,0,0,0,0,2000000,0,21000000,0,750000,0,0,0,0,0,0,0,1500000,0,0,0,0,4700000,0,0,25100000,0,0,500000,500000,14000000,0,7000000,0,0,0,12000000,0,0,7000000,0,0,37000000,0,0,0,0,25000000,0,14000000,0,0,0,0,0,27000000,0,0,0,0,0,8000000,0,0,4000000,0,6000000,200000,6700000,0,0,0,0,0,35000000,1500000,0,4300000,0,0,0,0,0,5750000,9100000,21000000,0,0,200000,2500000,0,0,2300000,0,0,0,20000,8000000,0,0,0,0,2500000,0,0,15000000,5000000,0,10000000,0,0,0,0,0,0,3600000,0,515788,0,0,0,6000000,0,0,0,4180000,0,0,0,0,0,0,0,0,0,0,0,0,0,0,2500000,0,0,0,4600000,15000000,0,0,0,0,0,0,0,0,0,0,2000000,0,0,0,11000000,3000000,0,0,5000000,0,22000000,0,0,0,170000,10000000,0,0,0,7000000,0,0,0,0,0,0,0,0,0,0,0,0,0,3500000,0,0,0,0,0,0,0,0,0,0,0,0,0,0,0,0,0,0,0,0,0,0,8000000,0,0,0,0,500000,0,0,0,140000000,15000000,125000000,380000000,93000000,150000000,40000000,50000000,40000000,32000000,145000000,50000000,90000000,27000000,150000000,80000000,35000000,110000000,35000000,20000000,125000000,200000000,200000000,80000000,25000000,130000000,32500000,36000000,50000000,82000000,42000000,110000000,6500000,0,55000000,32000000,50000000,90000000,15000000,80000000,163000000,0,66000000,8000000,135000000,52000000,170000000,40000000,57000000,15000000,66000000,37000000,30000000,75000000,0,8000000,0,30000000,60000000,0,12000000,25000000,35000000,30000000,50200000,75000000,250000,30000000,40000000,7000000,0,40000000,70000000,47000000,30000000,79000000,20000000,40000000,6400000,6000000,50000000,0,30000000,25000000,25000000,50000000,7000000,16000000,130000000,30000000,120000000,35000000,90000000,0,45000000,60000000,0,41000000,17000000,19000000,35000000,75000000,56000000,49900000,3500000,4000000,0,0,5000000,17000000,130000000,40000000,150000000,14350531,21000000,0,40000000,0,75000000,21000000,25000000,10000000,110000000,0,30000000,0,0,12468389,10000000,0,5000000,3500000,36000000,15774948,0,20000000,63000000,45000000,10000000,6000000,0,10000000,10000000,24000000,0,36000000,25000000,100000,12500000,0,195000000,5000000,13000000,70000000,19000000,0,15000000,0,4000000,45000000,27000000,9500000,15000000,0,0,17000000,0,40000000,0,0,0,25000000,25000000,2000000,0,15000000,0,0,0,0,6000000,750000,8000000,5000000,0,7700000,35000000,30000000,0,24000000,15000000,18000000,28000000,4798235,30000000,0,0,0,0,7000000,0,20000000,0,8000000,38000000,50000000,10000000,0,4000000,1,0,12000000,0,5000000,8000000,0,0,4317946,0,0,0,0,0,1000000,0,0,40000000,0,0,10000000,0,0,32000000,1000000,350000,3500000,93,0,37000000,0,0,0,0,29000000,0,0,4500000,125000000,500000,2500000,0,10000000,0,4000000,0,0,6600000,0,0,2000000,0,0,0,7300000,8000000,0,0,125000,5000000,0,20000000,10831173,0,20000000,0,0,20000000,14000000,0,0,0,0,17000000,0,500000,135000,0,930000,0,13000000,0,0,4000000,500000,19100000,7000000,0,1100000,0,8400000,0,25000000,4000000,0,1150000,0,3000000,0,28000000,0,0,0,41000000,3000000,25000000,0,0,0,0,15000000,0,0,6000000,15000000,0,0,25000000,0,0,0,0,1000000,0,0,8000000,1000000,0,0,0,0,0,0,6965576,0,10000000,8000000,0,17000000,0,0,0,0,1000000,25000000,1000000,0,0,0,100000,0,0,134005,0,0,70000,0,500000,0,0,0,8978040,1000000,0,0,0,0,0,10000000,0,0,6000000,8000000,0,8000,0,0,500000,0,25000000,0,0,0,0,3,13000000,600000,0,0,25000000,15000000,0,0,1000000,0,0,0,0,0,0,0,0,4200000,650000,17000,10000000,0,3000000,0,0,0,0,0,0,0,0,0,45202,0,0,160000000,2000000,0,1000000,0,0,0,0,0,0,0,5000000,1500000,0,4000000,0,0,250000,0,0,0,0,0,0,2000000,30000000,0,1340000,0,0,97,9000000,0,0,0,0,0,0,0,0,10000000,0,0,0,0,0,6800000,0,0,0,0,0,20,0,0,0,0,2500000,0,750000,0,0,0,0,0,0,0,0,0,0,700000,0,300000,0,0,0,0,0,2902660,0,0,0,0,0,0,20000000,0,0,0,250000,0,0,0,0,61733,0,0,0,0,0,0,0,0,0,0,0,0,0,0,0,79000000,100000000,59000000,60000000,33000000,139000000,120000000,52000000,140000000,35000000,102000000,80000000,21000000,70000000,140000000,140000000,5000000,55000000,54000000,100000000,48000000,120000000,5000000,41000000,50000000,3500159,5000000,60000000,72000000,48000000,0,11000000,5000000,27000000,0,85000000,13000000,60000000,20000000,8000000,25000000,80000000,63000000,65000000,46000000,35000000,84000000,0,80000000,55000000,0,60000000,70000000,4000000,15000000,1300000,0,68,28,75000000,5000000,0,12000000,50000000,19000000,30000000,12000000,15000000,80000000,20000000,43000000,0,115000000,36000000,0,17000000,0,50000000,45000000,25000000,100000000,0,0,0,35000000,38000000,0,38000000,20000000,20000000,0,40000000,14000000,12000000,7000000,45000000,12000000,35000000,0,40000000,0,0,60000000,85000000,0,42000000,21000000,70000000,30000000,25000000,50000000,47000000,10000000,35000000,30000000,0,0,13000000,32000000,0,33000000,13500000,20000000,70000000,5000000,30000000,4000000,3000000,3000000,0,0,70000000,0,30000000,0,16000000,2000000,26000000,13000000,18000000,0,12000000,15000000,0,6500000,0,0,17000000,3800000,9000000,0,8000000,6000000,27000000,12500000,0,0,0,0,9000000,11000000,10000000,0,20000000,0,500000,12000000,100000000,30000000,25000000,11000000,10000000,0,0,0,0,78000000,0,29000000,0,0,60000000,200000,20000000,0,30000000,3500000,0,0,0,0,0,0,13000000,1200000,0,0,0,0,0,0,0,14000000,0,40000000,0,0,35000000,7000000,10000000,0,1000000,25000000,0,0,15600000,3000000,2000000,4000000,0,55000000,40000000,10000000,0,0,14000000,8500000,0,0,0,25000000,0,0,0,0,0,0,0,0,20000000,11000000,0,0,0,0,0,4000000,0,0,0,0,0,0,0,0,0,0,0,0,0,0,0,0,0,0,40000,8000000,25000000,55000000,45000000,30000000,17000000,30000000,60000000,0,115000000,23000000,0,55000000,62000000,34000000,27000,50000000,22000000,30000000,0,6000000,28000000,0,45000000,15000000,40000000,46000000,0,38000000,15000000,0,0,55000000,60000000,14000000,25000000,5000000,35000000,27000000,12000000,0,0,40000000,18000000,27000000,63000000,0,0,0,0,50000000,0,3000000,35000000,45000000,0,28000000,26000000,50000000,0,1500000,0,30000000,45000000,40000000,10000000,17000000,15000000,26000000,30000000,11500000,0,0,0,23000000,20000000,18000000,0,0,0,0,0,0,0,45000000,0,0,15000000,0,25000000,0,20000000,0,0,2500000,0,13000000,700000,0,0,3500000,6000000,0,0,0,0,0,0,11000000,0,0,0,40000000,0,17080000,0,0,0,0,0,0,1000000,0,0,0,0,25000000,0,45000000,0,0,400000,2000000,200000,0,50000000,600000,0,7400000,0,0,45000000,0,0,0,13000000,0,0,0,2500000,0,0,0,0,0,0,0,0,0,10300000,0,0,0,0,20000000,0,0,0,0,0,0,0,0,0,0,9000000,0,32,0,0,0,0,0,0,220000000,70000000,250000000,100000000,200000000,130000000,250000000,130000000,21000000,215000000,185000000,170000000,42000000,120000000,95000000,50000000,60000000,42000000,165000000,17000000,225000000,75000000,125000000,102000000,100000000,45000000,150000000,13000000,44500000,50000000,7000000,30000000,145000000,30000000,79000000,12500000,30000000,69000000,60000000,3500000,70000000,16000000,0,50000000,209000000,11000000,0,65000000,61000000,85000000,260000000,30000000,120000000,40000000,23000000,150000000,33000000,15000000,12000000,85000000,3000000,0,7000000,0,65000000,40000000,65000000,7500000,25000000,12000000,25000000,0,145000000,0,26000000,0,26000000,75000000,35000000,0,0,68000000,60000000,32000000,25000000,30000000,35000000,20000000,35000000,17000000,39000000,70000000,85000000,45000000,35000000,3730500,0,31000000,42000000,15000000,40000000,9000000,0,6000000,10000000,16000000,5000000,0,14000000,20000000,15000000,20000000,0,12000000,20000000,0,0,65000000,14000000,30000000,30000000,0,0,15000000,0,0,0,40000000,0,30000000,4000000,0,17000000,0,2500000,0,6900000,45000000,40000000,11000000,26350000,0,0,0,60000000,15000000,22000000,19500000,0,5000000,12000000,58000000,10000000,0,14000000,35000000,1500000,0,35000000,3000000,0,40000000,0,1000000,0,10000000,0,0,61000000,6000000,12000000,0,16600000,5000000,13000000,25000000,0,11500000,5000000,5600000,2400000,0,0,0,0,0,0,0,0,850000,9500000,0,0,5000000,5000000,25000000,0,0,0,1000000,0,0,0,25000000,18200000,0,0,0,0,0,12000000,0,2000000,0,0,0,0,0,0,0,12000000,0,0,0,0,0,0,0,0,0,3000000,8000000,150000,1800000,0,40000000,6000000,0,0,4275000,0,20000000,20000000,750000,0,0,0,0,0,0,12000000,2000000,0,17000000,0,5000000,12500000,3000000,0,1000000,3000000,0,0,8000000,0,0,3000000,2500000,0,0,30000000,0,0,3000000,20500000,0,0,0,0,12000000,0,0,0,0,0,0,0,3000000,0,0,0,2000000,0,11000000,0,5300000,3500000,0,0,5000000,0,0,0,0,0,0,0,1500000,0,0,0,0,0,0,25,0,0,0,0,6300000,0,0,1000000,5000000,1700000,0,0,0,0,6000000,0,0,0,0,0,0,0,0,0,0,0,0,200000,0,17,0,500000,0,0,0,0,0,0,0,65000000,0,0,17000000,0,0,0,0,0,0,300000,0,2000000,170000,1250000,0,0,0,0,0,0,0,5990000,2000000,0,0,0,0,0,0,2000000,0,0,0,0,0,0,0,0,0,0,10000000,5000000,0,0,0,0,0,0,0,3500000,0,0,0,0,0,0,0,2500000,0,0,14000000,0,5000000,3000000,0,0,0,1500000,500000,0,0,0,0,0,2840000,0,0,0,0,0,0,0,0,4000000,0,0,1100000,0,0,0,8000,0,500000,0,20000000,0,0,0,0,0,0,0,0,300000,0,1500000,0,0,0,0,0,0,0,0,0,500000,0,0,0,0,10400,0,0,0,0,0,100000,0,0,0,0,0,5000000,0,0,7500000,0,0,0,0,0,400000,0,65000000,0,0,16000000,0,0,0,0,0,0,0,0,0,0,0,0,0,0,0,0,0,0,8510000,0,0,0,0,0,0,0,2500000,0,0,0,0,0,0,0,0,0,0,0,0,0,12000000,0,0,0,0,0,0,0,0,3000000,0,0,0,0,0,0,0,0,0,0,0,0,0,0,0,0,0,0,0,0,0,0,0,0,2000000,0,0,0,0,0,0,0,0,110,0,0,94000000,22000000,140000000,30000000,150000000,150000000,94000000,80000000,40000000,32000000,200000000,15000000,70000000,78000000,55000000,78000000,60000000,20000000,4000000,23000000,40000000,100000000,100000000,48000000,18000000,36000000,35000000,140000000,130000000,95000000,12600000,30000000,150000000,65000000,25000000,5000000,75000000,60000000,137000000,29000000,0,24000000,50000000,50000000,80000000,70000000,45000000,0,0,26000000,60000000,80000000,60000000,120000000,80000000,90000000,40000000,40000000,20000000,26000000,0,9500000,0,40000000,79000000,6000000,20000000,41000000,2000000,30000000,25000000,0,80000000,50000000,85000000,0,76000000,0,0,0,0,0,22000000,18000000,0,27440000,60000000,0,87000000,50000000,17000000,17000000,68000000,0,0,52000000,38000000,35000000,35000000,60000000,55000000,16500000,0,0,0,1500000,60000000,7500000,0,0,8000000,12000000,0,20000000,30000000,54000000,56000000,0,6000000,19000000,0,0,0,0,0,0,20000000,5000000,35000000,50000000,0,3000000,0,7000000,8000000,0,0,0,7000000,20000000,14000000,32000000,6400000,0,0,0,300000,0,75000000,7800000,0,7500000,6000000,0,0,1500000,0,850000,500000,0,15000000,0,5000000,0,0,0,0,0,0,0,0,0,60000000,780000,80000000,22000000,0,0,0,10000000,0,8256269,0,500000,4361898,0,28000000,0,0,24000000,0,0,0,13000000,0,0,6800000,0,60000000,55000000,0,0,0,0,0,0,14000000,0,0,0,0,0,0,10,20000000,15000000,6000000,0,0,10000000,0,0,7000000,0,32000000,17000000,0,17000000,0,0,0,0,0,14000000,0,110000000,0,5000000,0,0,0,0,0,0,0,0,30000000,12000000,0,569217,5000000,300,0,0,0,0,0,0,7000000,16700000,0,0,0,0,0,0,0,0,0,0,0,0,0,0,0,0,0,0,0,0,0,0,200000000,85000000,90000000,36000000,90000000,125000000,3500000,110000000,10000000,12000000,70000000,50000000,60000000,53000000,32000000,16500000,105000000,3500000,75000000,80000000,35000000,17000000,57000000,45000000,250000,116000000,160000000,35000000,24000000,45000000,0,90000000,62000000,40000000,90000000,60000000,0,0,80000000,68000000,75000000,85000000,55000000,15000000,50000000,36000000,70000000,38000000,15000000,15000000,50000000,7000000,0,0,18000000,90000000,35000000,0,0,27000000,50000000,25000000,19000000,0,30000000,20000000,0,40000000,50000000,250000,28000000,80000000,50000000,60000000,0,0,0,12000000,1000000,0,0,30000000,0,85000000,60000000,30000000,38000000,5000000,0,30000000,5000000,15000000,35000000,20000000,25000000,18000000,0,3000000,0,0,25000000,32000000,0,30000000,0,55000000,0,0,0,5000000,35000000,48000000,10000000,0,29000000,0,0,20000000,55000000,0,0,0,0,16000000,17000000,7000000,0,28000000,0,0,0,12000000,0,19000000,35000000,0,0,16000000,0,0,0,25000000,0,0,0,9000000,0,0,0,35000000,0,0,0,53000000,0,22000000,36000000,15000000,6000000,30000000,73000000,37000000,0,0,0,0,18000000,0,0,16000000,1300000,4000000,0,0,0,0,0,0,0,0,0,0,0,0,786675,0,0,0,0,0,0,150000000,105000000,170000000,200000000,75000000,130000000,100000000,180000000,120000000,250000000,225000000,23000000,76000000,190000000,20000000,38000000,13000000,105000000,0,115000000,92000000,3000000,200000000,200000000,90000000,110000000,37000000,61000000,0,38000000,130000000,11000000,70000000,90000000,46000000,20000000,40000000,35000000,6000000,50000000,175000000,3500000,60000000,100000000,40000000,0,5000000,130000000,84000000,50000000,5000000,0,13000000,17000000,28000000,30000000,5000000,0,15000000,80000000,103000000,135000000,22000000,50000000,30000000,55000000,25000000,150000000,8000000,35000000,12000000,0,195000000,30000000,55000000,11000000,26000000,32000000,15000000,35000000,130000000,7000000,43000000,35000000,28000000,5000000,255000000,60000000,35000000,30000000,12000000,1030064,9000000,20000000,2500000,20000000,50000000,7500000,200000000,135000000,20000000,25000000,0,0,44000000,30000000,18000000,15000000,16000000,32000000,13000000,0,25000000,6000000,13000000,40000000,40000000,10900000,0,12000000,28000000,125687,0,9500000,15000000,11000000,23000000,78000000,16000000,18000000,28000000,0,0,0,2500000,4800000,30000000,0,0,13500000,30000000,10000000,0,7000000,16000000,18000000,56000000,0,0,0,80000000,0,27000000,2900000,8500000,60000000,27220000,105000000,16000000,40000000,10000000,0,4600000,28000000,25000000,25500000,120000000,35000000,55000000,12000000,0,20000000,0,0,15600000,0,25000000,8500000,0,0,10000000,25000000,0,0,0,0,0,0,0,0,5000000,0,0,3000000,0,0,5000000,0,0,0,0,0,12000000,3500000,1000000,0,35000000,0,0,0,0,7700000,0,0,5000000,0,4000000,0,0,0,15000000,0,22000000,1500000,34000000,0,8200000,0,160000000,0,600000,0,0,100000,20000000,0,0,0,0,100000,0,0,0,0,0,0,0,0,0,3500000,0,20000000,10000000,0,0,2000000,0,17500000,0,0,3500000,0,0,0,0,0,6218100,1000000,0,0,0,0,1000000,0,5200000,4000000,0,0,22000000,0,5000000,0,7000000,0,0,0,0,0,0,4000000,0,10000000,0,0,0,0,0,0,0,0,8000000,0,0,0,6500000,18000000,7000000,0,7000000,0,70000000,0,0,0,0,0,0,8000000,0,4900000,0,0,0,0,6500000,0,0,0,17000000,0,1104000,0,950000,0,0,0,2000000,2500000,0,0,0,0,0,0,0,0,0,0,0,0,33000000,0,0,250000,0,0,0,0,7500000,12000000,0,83000000,0,15,0,4000000,0,0,0,6000000,0,0,567000,0,0,0,0,0,0,0,0,0,0,0,0,0,0,0,5000000,10000000,10000000,0,0,0,0,0,500000,0,6000000,0,0,0,0,0,0,0,0,0,0,3500000,0,5000000,0,0,0,6000000,0,0,35000000,0,0,0,1000000,0,12000000,0,0,0,0,0,10,0,0,725000,0,0,0,0,15000000,0,0,0,0,0,5000000,4000000,0,0,0,0,0,0,0,7500000,0,0,50000,0,0,0,0,0,0,0,0,0,0,0,0,0,0,1000000,1800000,135000,0,0,0,0,0,0,4000000,18000000,0,0,0,0,1052753,8000000,0,0,0,0,10000000,0,0,0,0,996519,0,0,0,0,0,89,0,0,3000000,0,3000000,0,3000000,0,0,0,0,5000000,0,7000000,1000000,0,0,800000,5112027,800000,0,0,0,18,0,0,0,0,0,0,15,0,0,0,0,0,0,0,0,0,0,4500000,8000000,0,0,0,0,11000000,0,2500000,0,0,0,7720000,0,0,0,0,0,0,4000000,0,0,0,3600000,0,0,0,0,0,0,0,0,1000000,1000000,0,0,0,0,0,0,232000,0,0,1200000,0,0,0,0,0,0,0,0,0,0,0,0,0,0,0,0,0,0,0,0,0,3000000,0,0,0,0,0,0,0,0,58000000,0,0,0,0,0,750,0,0,0,0,0,0,0,0,0,1400000,650,0,0,4500000,0,0,0,30000000,0,0,0,0,0,500,0,348164,0,0,0,0,0,0,0,19000000,1000000,20000000,12305523,30000000,25000000,19000000,3000000,44000000,31000000,31000000,15000000,25000000,15000000,10000000,12500000,4000000,12000000,0,0,0,9000000,0,0,17900000,3500000,15000000,2200000,50000000,0,1000000,1000000,0,0,0,15000000,0,3800000,25000000,25000000,900000,9000000,0,0,0,0,0,0,4500000,6000000,0,0,0,0,0,0,20000000,0,0,26000000,0,0,0,0,0,0,0,3000000,0,945000,18000000,5000000,0,6500000,0,9000000,0,0,0,0,25000000,0,0,15000000,5000000,0,0,3200000,0,0,0,10000000,1700000,0,25000000,0,24000000,19000000,114,11500000,0,0,860000,0,2410000,0,0,0,0,150000000,150000000,180000000,54000000,40000000,150000000,113000000,50000000,126000000,75000000,100000000,100000000,40000000,62000000,56000000,132000000,85000000,26000000,150000000,70000000,32000000,0,25000000,130000000,43000000,207000000,53000000,50000000,28000000,14000000,75000000,0,87000000,25000000,110000000,0,75000000,42000000,65000000,43000000,0,40000000,30000000,70000000,2200000,29000000,72000000,0,39000000,4000000,58000000,50000000,57000000,0,45000000,4800000,15000000,88000000,15000000,15000000,25000000,85000000,0,10000000,60000000,0,60000000,30000000,30000000,20000000,80000000,88000000,30000000,52000000,50000000,70000000,19000000,6500000,22000000,50000000,84000000,22000000,50000000,43000000,12000000,30000000,7000000,30000000,32000000,19000000,100000000,45000000,45000000,35000000,169000,35000000,2000000,55000000,30000000,0,10000000,20000000,0,1000000,15000000,0,0,28000000,0,30000000,40000000,45000000,4000000,35000000,50000000,25000000,82000000,3000000,32000000,80000000,0,9000000,18000000,135000000,15000000,25000000,25000000,0,0,0,130000000,10000000,7000000,35000000,25000000,0,950000,40000000,80000000,50000000,0,0,25000000,0,0,50000000,0,25000000,0,0,3500000,15000000,13000000,0,1000000,30000000,10000000,0,475000,30000000,0,30000000,14200000,0,35000000,900000,26000000,0,0,0,0,0,0,0,0,7000000,0,0,0,1500000,45000000,0,9000000,0,0,45000000,0,818418,0,8000000,1000000,0,0,2000000,20000000,20000000,13000000,0,12000000,9000000,11000000,4000000,0,6000000,0,0,0,0,5000000,30000000,40000000,0,0,12000000,0,0,1500000,0,0,25000000,1900000,18000000,0,0,3000000,15000000,0,0,0,0,2000000,0,0,7500000,1549000,0,0,0,0,0,20000000,0,4750000,0,0,10284523,25000000,35000000,0,0,0,0,0,0,0,450000,8000000,0,12000000,30000000,0,0,0,0,0,15000000,0,0,0,16398,10,0,0,0,14000000,0,0,25000000,0,2000000,0,0,35000000,0,0,9600000,9000000,2000000,6000000,3500000,30000000,0,0,72000,0,0,50000,5000000,0,0,0,0,0,0,0,3000000,1500000,0,0,0,3000000,0,14000000,0,0,0,0,8000000,0,0,0,0,7000000,0,0,40000000,0,0,0,5000000,0,0,16000000,0,0,11000000,0,15000000,0,0,0,0,0,0,0,0,0,0,0,3000000,0,0,0,0,0,12000000,0,0,1600000,0,0,0,0,0,50000000,200000000,120000000,150000000,125000000,12000000,80000000,150000000,35000000,90000000,85000000,40000000,110000000,25000000,76000000,0,270000000,18000000,82500000,0,52000000,45000000,80000000,50000000,100000000,0,12000000,27000000,40000000,25000000,50000000,20000000,35000000,100000000,24000000,0,149000000,80000000,75000000,100000000,40000000,45000000,75000000,4200000,50000000,40000000,50000000,15000000,0,28000000,85000000,30000000,15000000,135000000,18000000,31000000,90000000,2000000,21000000,50000000,40000000,17000000,0,50000000,0,65000000,40000000,0,17500000,25000000,55000000,15500000,40000000,70000000,5000000,72500000,0,55000000,40000000,37665000,0,0,0,6000000,10000000,30000000,32000000,50000000,9000000,160000000,17000000,0,0,16800000,54000000,8000000,64000000,24000000,0,35000000,12000000,25000000,19000000,0,8500000,0,30000000,63000000,0,35000000,1200000,19400000,12000000,15500000,20000000,23000000,0,85000000,0,51000000,3700000,0,70000000,33000000,0,6500000,11000000,70000000,0,17000000,85000000,0,30000000,38000000,0,15000000,50000000,0,0,15000000,25000000,20000000,0,0,12000000,50000000,40000000,6000000,12000000,0,26000000,0,0,85000000,30000000,35000000,0,0,0,0,12000000,0,0,10000000,6500000,0,55000000,4000000,5000000,45000000,20000000,15000000,15000000,994000,21000000,0,15000000,0,60000000,0,32000000,60000000,0,0,15000000,0,0,6000000,0,0,0,25000000,20000000,16000000,0,8000000,0,0,0,8000000,11000000,45000000,18000000,0,0,0,0,0,2000000,24000000,22000000,0,0,0,20000000,0,20000000,0,0,0,0,0,0,0,0,5000000,150000,15000000,13000000,500000,0,0,11000000,9000000,13000000,8000000,0,0,0,8000000,0,20000000,700000,4000000,0,75000000,26000000,0,0,900000,15000000,0,0,30000000,0,0,0,850000,0,0,0,0,0,0,0,0,7000000,100000,0,0,0,0,8000000,9364800,100000,0,0,0,4000000,0,0,0,12000000,0,1000000,4000000,0,0,0,0,5000000,0,0,0,0,0,0,2380000,0,0,3000000,0,0,20000000,0,26000000,0,14500000,0,0,0,0,0,0,15000000,0,2300000,9000000,0,15000000,0,2000000,0,0,0,0,0,0,0,210000000,0,0,0,0,0,0,1000000,5000000,0,0,0,0,8000000,10000000,0,0,3500000,500000,7000000,0,0,0,0,0,0,0,0,0,0,0,5000000,8300000,0,0,0,0,0,300000,8000000,0,0,12000000,0,0,0,0,0,0,0,2500,0,0,0,0,0,0,0,0,0,0,0,79000,0,0,1000000,0,0,0,0,0,0,0,0,0,0,0,2700000,0,130000000,30000000,50000000,20000000,29000000,92000000,75000000,175000000,100000000,120000000,75000000,17000000,160000000,66000000,165000000,150000000,13000000,45000000,110000000,80000000,125000000,116000000,65000000,4000000,65000000,7000000,60000000,140000000,30000000,50000000,0,75000000,70000000,0,30000000,0,6500000,26000000,37000000,31000000,25000000,0,25000000,19000000,70000000,20000000,12000000,155000000,9000000,1200000,200000000,25000000,70000000,42000000,27000000,33000000,100000000,60000000,1000000,28000000,0,120000000,105000000,80000000,40000000,6500000,60000000,57000000,40000000,145000000,2700000,10000000,25000000,80000000,5000000,12000000,25000000,60000000,0,50000000,35000000,90000000,7000,10000000,110000000,100000000,22000000,6000000,17000000,37000000,17500000,2800000,56000000,50000000,0,130000,47000000,32000000,5000000,0,0,24665810,0,16000000,19000000,0,60000000,0,15000000,60000000,40000000,30000000,20000000,40000000,25000000,0,7000000,20000000,31000000,45000000,0,0,70000000,825000,2500000,400000,30000000,80000000,0,30000000,23000000,50000000,110000000,18000000,53000000,0,0,0,0,0,42000000,45000000,0,0,0,0,0,11000000,5400000,0,0,7200000,45000000,23000000,25000000,0,2000000,30000000,0,0,50000000,0,0,8000000,20000000,0,0,15000000,23000000,0,23000000,0,0,74500000,0,0,0,0,0,0,40000000,28000000,0,27000000,6800000,0,0,0,0,0,16000000,0,0,8500000,0,0,23000000,27000000,0,50000000,0,6000000,0,40000000,74050,30000000,200000,20000000,0,0,19250000,26000000,12000000,0,5000000,0,65000,6500000,35000000,0,0,39000000,0,50000,0,0,0,0,0,0,15000000,0,20000000,14,0,60000000,0,0,0,0,0,0,1400000,18000000,2600000,0,0,0,0,1500000,0,0,0,90,0,0,0,0,0,2600000,0,1000000,0,500000,0,0,3000000,0,0,20000000,0,0,30000000,0,0,0,0,0,10000000,0,0,0,3000000,0,5000000,0,0,6000000,823258,0,3500000,0,0,0,0,0,8800000,0,0,0,0,0,0,0,0,0,350000,6000000,2000000,1800000,6000000,3500000,0,1000000,3200000,12000,2000000,300000,90000,0,0,0,5000000,0,0,0,3352254,0,0,0,600000,0,0,0,850000,0,0,0,0,0,0,500000,0,0,0,75000,0,18000000,19000000,3500000,27000000,4500000,18000000,54000000,550000,0,35000000,5000000,0,0,0,0,1000000,0,6000000,6500000,8000000,3000000,0,0,44000000,3500000,0,0,0,5100000,20000000,0,0,0,0,15000000,0,0,0,0,4800000,0,1500000,0,7200000,0,6000000,10000000,0,0,0,0,0,1000000,0,0,0,0,0,2000000,0,0,20000000,10000000,350000,0,0,0,0,0,0,0,0,0,0,0,0,0,3000000,300000000,150000000,150000000,70000000,25000000,150000000,130000000,258000000,18000000,70000000,25000000,110000000,140000000,15000000,65000000,110000000,7500000,60000000,61000000,30000000,25000000,3800000,100000000,0,160000000,50000000,20000000,60000000,150000000,150000000,30000000,30000000,30000000,0,130000000,85000000,65000000,0,85000000,34000000,75000000,75000000,15000000,70000000,40000000,50000000,25000000,20000000,30000000,180000000,160000,0,30000000,70000000,20000000,35000000,55000000,25000000,86000000,25000000,15000,175000000,85000000,70000000,8000000,20000000,0,10000000,100000000,0,50000000,15000000,0,39000000,51500000,70000000,28000000,0,60000000,85000000,25000000,24000000,22000000,0,67000000,10000000,16000000,150000000,45000000,10200000,0,53000000,10000000,0,4000000,12000000,15000000,16500000,0,15000000,60000000,25000000,0,0,80000000,0,0,18000000,0,6000000,0,2000000,0,0,8000000,45000000,2000000,30000000,16000000,9000000,40000000,0,60795000,5200000,20000000,60000000,40000000,27500000,20000000,8000000,0,60000000,0,0,23000000,0,25000000,0,0,20000000,0,10000000,12000000,0,4000000,20000000,0,15000000,12000000,0,0,21000000,0,30000000,0,22000000,0,0,3500000,21000000,20000000,19000000,25000000,0,16500000,0,0,0,17000000,230400,35000000,24000000,20000000,0,25000000,12000000,0,0,45000000,20000000,22000000,0,0,0,0,0,700,2000000,0,16000000,0,0,0,4500000,10000000,0,0,2600000,9000000,45000000,19000000,0,0,6000000,23000000,1500000,0,0,35000000,0,0,5000000,0,0,16000000,20000000,0,0,12000000,0,0,0,0,0,13000000,20000000,45000000,0,26000000,0,20000000,0,0,9000000,0,0,0,0,0,0,0,25000000,0,15000000,0,0,20000000,0,0,0,15000000,67000000,0,3000000,0,2000000,12000000,0,0,0,0,0,0,0,10000000,0,10000000,4000000,0,0,0,10000000,0,0,0,0,10000000,4000000,16000000,2000000,13000000,38000000,0,8000000,0,0,0,0,20000000,0,0,0,6500000,3500000,0,0,4600000,0,50000,0,0,0,0,0,0,0,825000,12,0,0,8000000,0,15000000,0,0,5000000,0,12000000,0,500000,4000000,11000000,0,25000000,0,0,0,4000000,0,0,50000000,1000000,0,0,12000000,0,7000000,0,0,0,30000000,0,11000000,0,0,0,15000000,0,0,0,0,0,16000000,0,8000000,0,3000000,0,0,0,0,0,0,15000000,0,0,0,0,0,0,120000,700000,0,0,10000000,0,0,0,0,0,0,0,0,0,0,0,0,0,0,1500000,11000000,0,0,0,25000,0,13000000,0,10000000,0,0,0,0,0,0,0,2500000,0,0,0,20000000,0,0,0,0,0,0,0,0,0,0,441892,0,10000000,0,0,6000,0,0,0,0,0,2000000,0,1100000,200000,0,0,11000000,31500000,400000,35000000,34000000,4000000,239000,0,7000000,17500000,0,300000,11000000,0,8000000,0,0,20000000,0,0,0,4000000,14000000,8000000,0,0,35000000,0,0,2300000,0,0,0,6000000,0,2700000,0,0,0,0,0,420000,0,0,0,1355000,800000,0,0,0,0,0,0,300000,0,0,0,6400000,28000000,30000000,11000000,27000000,15000000,30000000,18000000,8000000,1800000,18000000,28000000,40000000,10000000,4500000,0,18000000,0,8200000,0,1500000,0,35000000,0,22000000,6000000,0,0,0,6500000,14400000,3000000,25300000,0,15000000,0,25000000,1500000,8000000,1746964,10000000,0,25000000,0,8600000,58000000,0,8000000,9000000,0,0,0,0,0,7200000,0,2550000,0,28000000,0,800000,0,0,700000,8000000,14500000,1200000,0,0,0,0,0,28000000,0,0,1065000,0,0,0,0,0,0,0,7000000,0,0,1250000,1000000,0,18000000,0,0,9000000,5500000,0,0,8000000,0,0,0,0,0,0,0,2000000,32350000,25000000,36000000,27500000,0,39000000,40600000,12000000,15000000,20500000,0,8000000,0,22000000,6200000,27000000,0,0,3000000,0,0,0,10000000,6500000,0,10100000,0,5000000,12000000,22000000,10000000,350000,0,0,0,0,4000000,0,0,0,0,10000000,0,0,27,10000000,22000000,5000000,0,5000000,0,0,5952000,0,0,0,1100000,0,0,1200000,8000000,0,0,15000000,0,0,0,6000000,0,0,980385,19000000,350000,0,425000,0,0,0,0,15000000,33000000,30000000,6000000,72000000,58000000,65000000,90000000,35000000,29500000,52000000,19000000,55000000,60000000,2500000,90000000,100000000,52000000,12000000,30000000,50000000,0,4000000,175000000,0,30000000,24000000,3600000,22000000,0,26000000,7000000,17000000,0,20000000,60000000,98000000,18000000,16500000,10000000,15000000,30250000,50000000,32000000,0,0,0,0,25000000,3500000,11000000,53000000,45000000,15000000,9000000,20000000,0,0,30000000,8,0,0,60000000,0,28000000,0,20000000,0,44000000,0,55000000,21000000,5000000,50000000,0,10000000,6000000,0,62000000,17000000,11000000,58000000,42000000,500000,0,0,8169363,0,7000000,0,0,0,0,0,20000000,0,0,0,1500000,17000000,0,0,0,0,50000000,0,6100000,0,0,0,0,0,14000000,35000000,0,8000000,0,0,40000000,0,0,0,50000000,0,0,7500000,0,0,0,0,0,0,50000000,27000000,500000,0,0,0,0,0,0,12000000,0,0,0,0,19000000,0,0,45000000,0,0,0,0,16000000,0,35000000,0,10000000,28000000,6400000,0,0,25000000,0,0,0,8000000,0,6,0,0,0,13365000,0,6000000,1200000,28000000,18000000,80000000,50000000,35000000,40000000,11000000,35000000,0,40000000,20000000,0,49000000,23000000,12500000,40000000,0,1000000,14000000,31000000,0,47000000,8000000,31000000,15000000,3000000,8000000,0,25000000,0,0,0,0,0,45000000,10000000,10000000,8000000,5000000,34000000,4000000,0,0,0,40000000,220000,11700000,5000000,0,4000000,42000000,27000000,0,0,0,0,40000000,0,0,11000000,0,3705538,0,40000000,10000000,6000000,0,40000000,0,0,23000000,24000000,40000000,0,0,10000000,0,0,0,0,60000000,35000000,5000000,0,10000000,0,0,16000000,8000000,0,0,0,0,0,0,0,0,0,0,20000000,0,25000000,0,0,0,0,15000000,17000000,0,12000000,0,0,0,0,0,0,0,0,17000000,35000000,0,0,4439832,0,3000000,0,0,0,0,0,0,0,18000000,2800000,28000000,12000000,2000000,11000000,10000000,9300000,350000,6000000,0,0,5500000,1250000,0,0,2500000,12000000,7000000,1750000,0,4000000,32000000,18000000,12000000,5000000,4100000,0,0,145786,10000000,16000000,0,0,3000000,18000000,0,0,0,0,18000000,0,0,1000000,5000000,0,14000000,62000,0,0,15000000,35000000,0,3000000,0,0,700000,0,0,1500000,0,0,0,0,0,0,2200000,0,17000000,8500000,0,0,100000,0,0,0,0,0,1000000,0,0,0,75000000,80000000,4000000,7000000,75000000,70000000,14500000,100000000,0,80000000,100000000,54000000,32000000,19000000,40000000,46000000,12000000,60000000,14000000,65000000,50000000,36000000,57000000,54000000,80000000,30000000,50000000,27000000,55000000,92000000,80000000,0,47000000,44000000,30000000,50000000,10000000,50000000,36000000,25000000,4500000,200000,50000000,55000000,45000000,30000000,0,46000000,20000000,0,0,0,0,9000000,0,15000000,0,0,4000000,0,27000000,40000000,0,45000000,25000000,0,15000000,55000000,0,0,0,7000000,0,6000000,45000000,2962051,0,0,67000000,25000000,25000000,0,0,3500000,0,20000000,12000000,13000000,25000000,0,7000000,38000000,0,6000000,0,45000000,0,26000000,0,3000000,1000000,4500000,0,0,0,26000000,47000000,0,50000000,0,0,18000000,0,0,30000000,7000000,0,44000000,5000000,25530000,0,0,0,0,0,25000000,0,4000000,20000000,50000000,38000000,0,3000000,18000000,0,35000000,45000000,0,15000000,0,0,38000000,0,0,0,28000000,17000000,0,42000000,60000000,0,0,0,0,28000000,3000000,0,0,5000000,0,25000000,0,0,0,3000000,40000000,17500000,0,0,0,23000000,15000000,0,13000000,8000000,2500000,0,3000000,0,350000,0,0,0,0,0,0,3000000,12000000,0,0,0,0,0,0,0,13000000,7000000,25000000,32000000,0,0,0,0,0,103000000,9000000,123000000,90000000,10000000,125000000,48000000,19000000,100000000,70000000,127500000,92000000,45000000,110000000,23000000,45000000,25000000,62000000,5000000,90000000,52000000,55000000,26000000,23000000,26000000,95000000,45000000,31000000,4500000,40000000,0,95000000,30000000,7000000,12800000,16000000,30000000,10000000,80000000,48000000,13000000,60000000,0,82000000,15000000,0,51000000,55000000,75000000,65000000,41300000,60000000,28000000,25000000,30000000,80000000,90000000,33000000,46000000,0,63600000,0,33000000,83000000,26000000,80000000,40000000,0,0,120000000,0,85000000,0,75000000,43000000,40000000,0,75000000,42000000,0,0,0,30000000,11000000,28000000,16000000,0,35000000,14000000,32000000,100000000,60000000,43000000,10000000,20000000,5500000,16000000,5000000,85000000,84000000,0,30000000,0,0,90000000,0,0,20000000,35000000,9000000,0,0,24000000,65000000,40000000,15000000,35000000,65000000,0,0,25000000,20000000,0,0,8000000,5000000,40000000,14000000,13500000,8000000,25000000,0,35000000,10000000,24000000,0,2000000,25000000,24000000,0,18000000,0,0,24000000,24000000,0,9000000,10000000,1000000,0,0,0,60000000,0,16000000,15000000,10000000,2000000,0,5000000,1500000,34000000,0,0,35000000,75000000,0,0,0,0,0,10000000,0,0,12000000,65000000,15000000,0,0,0,0,0,0,0,0,0,0,0,4000000,65000000,0,7000000,5000000,0,0,0,0,0,0,22000000,0,8000000,0,0,0,76000000,0,7000000,0,57000000,0,0,0,0,1500000,0,0,0,0,0,40000000,0,15000000,0,0,0,0,28000000,10500000,10000000,15000000,0,17000000,17000000,10700000,20000000,1000000,12000000,4500000,0,15000000,0,22000000,21000000,0,20000000,0,0,0,3000000,7000000,0,0,0,0,12000000,0,13200000,8000000,50000000,0,0,60000,0,0,0,0,6000000,0,4000000,4300000,2500000,16000000,0,0,18000000,22000000,4500000,0,0,0,0,0,2,0,0,0,0,0,3500000,8000000,0,0,0,0,32000000,0,35000,0,0,0,0,0,0,0,0,0,0,60000000,140000000,90000000,45000000,15000000,70000000,0,33000000,120000000,70000000,60000000,35000000,55000000,27000000,0,20000000,23000000,66000000,20000000,85000000,90000000,0,75000000,80000000,50000000,90000000,140000000,65000000,130000000,75000000,75000000,70000000,18500000,25000000,95000000,23000000,60000000,60000,55000000,0,52000000,27000000,40000000,71000000,70000000,65000000,60000000,30000000,48000000,18000000,0,26000000,50000000,0,14000000,0,12000000,0,15000000,90000000,0,1350000,0,30000000,0,17000000,60000000,90000000,0,25000000,20000000,13000000,25000000,0,70000000,73000000,0,65000000,6000000,0,0,8000000,60000000,0,60000000,20000000,13000000,0,28000000,25000000,70000000,70000000,0,0,3000000,30000000,50000000,0,0,0,20000000,0,0,15000000,20000000,0,0,0,0,0,60000000,0,650000,0,10000000,17000000,60000000,0,10000000,45000000,18000000,0,30000000,75000000,25000000,5000000,0,0,0,0,0,0,0,0,0,30000000,0,0,0,0,0,0,0,0,0,1500000,8000000,0,0,10000000,25000000,0,10000000,0,5000000,0,0,0,2000000,0,0,0,0,0,0,1500000,33000000,0,0,0,0,0,15000000,0,0,0,1100000,0,15000000,0,0,0,0,27000000,20000000,0,0,0,0,0,0,0,0,0,1000000,0,0,0,5000000,0,8000000,0,0,0,0,0,0,0,0,0,40000000,48000000,16000000,35000000,40000000,16400000,37000000,32000000,27000000,18000000,70000000,25000000,55000000,10000000,7500000,32000000,30000000,1500000,8000000,500000,18000000,11500000,0,18000000,14000000,15000000,0,1200000,11000000,20000000,6500000,0,18598420,22500000,0,0,24000000,0,0,5000000,31000000,0,0,3000000,0,0,0,13800000,0,30000000,19000000,0,10000000,7000000,0,5000000,0,7500000,0,19000000,30000000,0,0,15000000,7000000,787000,13000000,0,645180,0,0,0,0,0,0,6500000,0,9000000,0,0,0,0,2800000,0,0,5000000,0,0,12000000,750000,0,0,0,0,0,0,0,15000000,8045760,0,0,0,0,0,0,15000000,0,2000000,33000000,2500000,6000000,0,0,0,0,0,0,5000000,0,0,0,0,4000000,0,7000000,0,0,0,0,0,0,0,130000,0,0,0,0,25000000,100000000,70000000,48000000,30000000,35000000,27000000,23000000,24000000,0,75000000,30000000,65000000,42000000,16000000,38000000,25000000,40000000,0,19000000,9000000,16500000,0,11000000,2500000,29000000,40000000,6500000,23000000,15000000,0,35000000,0,13000000,6000000,26000000,26000000,0,11000000,0,11000000,0,8000000,19000000,0,18000000,0,16000000,0,0,0,0,24000000,0,0,10000000,14000000,30000000,6000000,14000000,0,0,0,8000000,30000000,0,14000000,0,2000000,0,0,0,0,0,0,0,0,0,0,0,8500000,8000000,0,0,35000000,0,0,0,0,0,0,35000000,0,0,0,0,0,0,0,48000000,0,0,23000000,33000,0,0,0,0,0,0,22000000,14000000,0,0,0,0,17000000,0,0,13000000,0,0,800000,0,0,0,0,0,16400000,0,0,0,0,28000000,18000000,12000000,8000000,15000000,25000000,1500000,39000000,63000000,20000000,0,15000000,70000000,12300000,20000000,0,9000000,35000000,0,7000000,0,7000000,29000000,7500000,0,0,19000000,17500000,0,0,0,0,15000000,0,28000000,4000000,3000000,16000000,0,5000000,7000000,10000000,0,2800000,0,14000000,20000000,20000000,0,2000000,0,0,0,0,6200000,0,0,0,0,10500000,0,0,0,30000000,0,7500000,7000000,0,0,0,1300000,0,0,0,22000000,24000000,22000000,0,0,0,0,13000000,0,6000000,0,0,4000000,5000000,0,0,0,1200000,0,4000000,0,10000000,0,0,0,0,0,0,0,0,23000000,15000000,4500000,0,7000000,0,23000,0,0,0,1100000,2500000,7000000,0,0,6000000,20000000,0,2000000,0,0,0,425000,0,0,2500000,0,0,0,0,0,0,15000000,0,16000000,0,0,5000000,0,0,0,18000000,17000000,6000000,22700000,40000000,13000000,3600000,15000000,27000000,23000000,16000000,5000000,15000000,20000000,17000000,6000000,25000000,13000000,23000000,14000000,0,0,0,17000000,25000000,0,8500000,0,3500000,25710,1880006,3000000,20000000,0,18000000,0,20000000,0,0,0,15000000,0,38000000,2500000,10000000,17000000,16000000,15000000,0,12000000,0,5000000,11000000,0,2000000,0,0,3000000,0,1000000,7200000,0,0,0,0,6500000,17000000,0,0,0,0,18000000,0,0,0,14000000,0,12000000,0,0,0,0,0,0,0,1800000,1000000,0,0,0,0,0,0,0,6000000,0,0,19000000,0,0,0,0,0,0,0,0,0,0,0,0,3000000,0,0,0,0,0,250000,0,0,0,95,0,0,0,0,12000000,5800000,114000,0,0,5500000,0,0,3200000,0,10000000,1800000,7700000,1500000,4300000,0,0,0,7000000,10000000,0,0,1800000,0,0,0,275000,0,0,0,0,0,0,0,0,0,0,950000,0,13000000,6000000,7000000,2800000,85000,60000,1600000,0,0,2600000,0,3000000,3000000,0,6500000,500000,200000,0,0,25000,0,0,0,3000000,0,4000000,0,14000000,0,0,0,1500000,7000000,0,0,0,0,0,0,0,0,0,700000,400000,0,0,0,3000000,7000000,400000,1200000,11000000,5000000,0,0,0,0,0,300000,0,0,0,0,0,2700000,0,5000000,0,2200000,0,1500000,0,1800000,0,179000,0,0,0,15000000,0,0,0,0,0,0,0,0,0,0,0,0,1100000,15000000,2000000,2000000,2200000,0,0,15000000,0,3200000,0,0,0,0,0,980000,0,2650000,126,10000000,62000,0,500000,0,0,0,0,0,30000,0,0,0,3500000,1800000,6000000,500000,0,2135161,17000000,0,0,0,0,0,0,0,0,0,0,0,0,0,0,0,0,783000,3000000,0,1200000,0,0,0,0,0,0,3500000,0,0,0,0,0,0,0,65000,2200000,3000000,7200000,0,4000000,2500000,2200000,0,20000000,777000,1200000,1800000,725000,0,0,1645000,450000,750000,2000000,0,0,6500000,0,850000,0,4000000,0,9000000,1300000,1300000,0,0,0,0,2500000,0,0,0,0,0,0,0,0,0,0,0,0,0,0,0,0,0,100000,0,0,65000000,25000000,70000000,40000000,20000000,14000000,54000000,22000000,22000000,13500000,20000000,42000000,13000000,0,30,35000000,60000000,0,14000000,50000000,11000000,35000000,32000000,0,0,38000000,0,6000000,4000000,0,0,0,0,9500000,0,0,26000000,10000000,0,0,0,25000000,0,11000000,10000000,7000000,0,0,0,47000000,16000000,0,0,4200000,0,0,0,47000000,12000000,0,0,15000000,22000000,0,0,1000000,10500000,0,25000000,1500000,0,0,3,0,10000000,0,0,37931000,0,0,0,0,0,0,0,2500000,0,0,0,0,11000000,19000000,0,0,0,0,0,0,0,49000000,23000000,4000000,0,20000000,22000000,225000,0,9000000,0,0,0,0,0,0,22997992,500000,18000000,31000000,2500000,0,0,0,0,0,2068041,0,0,0,0,0,0,0,4000000,2500000,6000000,6000000,0,3000000,0,0,0,0,2000000,5037000,4000000,0,200000,0,0,0,0,0,6000000,3000000,0,0,2900000,0,0,0,0,0,1500000,806948,2000000,12000000,3000000,0,750000,0,0,0,0,0,0,270000,0,0,0,0,0,0,30000,0,0,0,0,0,0,200000,0,0,3000000,0,0,1300000,1100000,1800000,2800000,9000000,24000000,8500000,9000000,2000000,3700000,6500000,0,3800000,0,0,0,0,150000,6000000,0,0,0,0,0,0,0,1500000,0,0,0,0,0,0,0,0,6000000,0,0,0,0,0,0,0,0,0,35000000,0,14600000,18000000,22000000,63000000,57000000,25000000,44000000,40000000,26000000,6900000,85000000,30000000,20000000,0,70000000,40000000,21,0,0,14000000,21000000,25000000,0,30000000,30000000,25000000,12500000,42000000,38000000,0,45000000,30000000,22000000,11000000,35000000,9000000,22000000,13500000,25000000,0,42000000,15000000,0,28000000,0,13000000,13000000,20000000,0,0,0,0,0,30,7000000,35000000,35000000,0,8000000,17000000,0,18000000,11500000,6000000,34000000,0,0,0,0,0,0,32000000,0,0,3000000,0,0,8,0,12000000,22000000,0,0,15000000,0,0,20000000,25000000,0,0,0,0,38000000,19000000,10000000,3500000,12,30000000,0,33000000,0,0,0,8000000,0,0,0,900000,0,0,0,25000000,750000,0,0,35000000,1500000,0,14000000,0,0,0,8000000,0,900000,0,0,0,11000000,22000000,0,0,0,0,6000000,19885552,0,0,0,0,0,0,5000000,0,6000000,0,0,0,6000000,0,0,14000000,125000,0,2000000,0,0,30,14000000,0,0,2000000,0,0,0,0,0,0,0,0,0,1000000,68000,0,0,0,0,0,4000000,3000000,12000000,9500000,2500000,0,3000000,4000000,0,947000,0,25000000,2000000,0,640000,4000000,0,3500000,0,0,18000000,0,5000000,0,0,0,0,3500000,0,65000,0,0,0,0,0,0,200,0,0,0,2500000,0,2500000,4000000,0,31115000,9400000,0,4000000,0,0,0,0,750000,0,1000000,0,0,0,17000000,0,0,0,0,0,1000000,0,0,0,0,0,0,0,66500,18500000,16000000,6000000,15000000,6000000,8000000,0,0,15000000,17000000,14000000,40000000,0,0,6000000,24000000,37000000,25000000,13800000,20000000,25000000,0,0,113,0,25000000,8500000,5000000,15000000,25000000,0,19000000,10000000,25000000,0,24500000,9000000,3000000,0,4500000,0,0,2000000,0,4000000,0,1500000,6400000,0,10000000,4500000,0,0,14000000,0,10000000,3000000,0,18000000,0,5000000,0,0,0,0,111000,22500,2700000,0,4700000,0,0,0,0,0,10000000,0,0,0,3000000,12000000,0,2000000,0,18000000,0,6500000,0,0,0,0,0,0,0,1100000,0,0,15000000,0,800000,12000000,0,0,0,0,0,15000000,0,0,0,0,0,18000000,0,0,0,1900000,15000000,0,8500000,0,15000000,8000000,7000000,500000,850000,0,1700000,1500000,5500000,0,0,0,0,777000,0,12000000,2000000,0,3000000,0,0,0,0,4638783,0,0,0,0,0,0,500000,0,500000,0,0,0,0,0,0,0,0,0,0,0,0,0,0,0,0,0,450000,275000,0,0,1000000,4000000,3000000,3500000,0,0,12000000,2200000,0,25485000,0,0,5000,10000000,7000000,0,0,0,15000000,0,0,0,0,0,0,0,60000,0,3716946,0,0,0,6000000,0,0,0,10000000,25000000,0,0,0,0,11000000,8200000,14000000,5600000,0,0,0,0,0,1500000,0,0,45000,0,0,5760000,115,0,0,0,0,0,0,0,300000,0,0,20000000,0,0,3800000,0,0,0,0,7000000,6000000,360000,3600000,6244087,1500000,12000000,4000000,0,0,0,0,0,0,0,0,0,0,1250000,0,0,0,0,0,0,175000,0,0,0,0,0,6000000,20000000,650000,55000000,300000,2700000,0,15000000,0,0,0,0,0,0,0,2300000,4000000,5000000,0,0,7920000,0,11,5000000,12000000,3500000,660000,10000000,0,650000,0,0,0,24000000,0,2700000,6800000,0,1000000,0,3000000,0,0,0,0,11000000,0,6727000,0,0,0,0,0,0,0,90000,0,0,0,0,3000000,0,0,0,0,315000,0,7500000,0,18000000,0,0,1377800,3000000,4653000,0,0,4800000,0,0,12000000,0,0,0,0,0,75000,0,0,0,0,0,0,5115000,0,0,0,0,0,0,700000,0,0,0,0,0,0,0,0,0,19000],\"y\":[1513528810,378436354,295238201,2068178225,1506249360,532950503,440603537,595380321,1156730962,853708609,880674609,183987723,36869414,243637091,1405035767,155760117,325771424,518602163,542351353,650523427,209035668,91709827,470490832,569651467,133346506,682330139,215863606,403802136,88346473,311256926,29355203,102069268,287506194,162610473,150170815,35401758,22354572,331926147,71561644,62076141,201634991,140396650,34441873,108145109,42629776,14333790,368871007,85512300,0,9064511,40272135,194564672,203427584,101134059,133718711,36606743,30523226,30418560,64191523,17752940,84025816,167977596,40423945,235666219,153962963,82347656,93820758,0,137935567,140795793,32848185,42972994,45895,128388320,0,0,246233113,48623572,52395996,5214043,63013281,466183544,24000000,61181942,1863315,104384188,95437994,187112,2000000,3324330,58978653,240360392,0,0,97571250,233755553,18340000,43528634,52882018,107597242,0,0,50163103,0,49263404,79799880,14860766,98450062,99775678,50136,61548707,208588,54418872,17986781,28208085,61619773,0,105011053,32248241,5189646,72629670,74679822,0,122413057,78099553,229094,8235661,32189727,2500431,311594032,4719695,43967255,59700000,0,1702433,10664749,62882090,51680201,104303851,118483,0,41387687,34227298,0,3759286,0,17671101,0,11472454,0,1477002,0,0,3643591,0,27391084,0,41325328,0,0,60273173,1936524,7587485,106511453,0,0,0,24902723,16002420,0,11122090,6075,13192457,16775,0,0,0,30229977,3002884,85978266,6420319,0,1986615,26250020,0,0,7002261,0,231737,0,0,134552,0,3214116,0,8413144,0,0,0,0,573335,0,695269,2541554,0,10835752,3020664,0,14444999,1784763,1411927,12314651,0,143101,0,0,0,0,0,0,8034,0,0,35991087,0,64110728,0,0,0,14431253,45431,0,0,0,0,45710059,0,0,0,0,0,0,42664410,0,0,0,3334927,0,0,0,1236094,0,0,0,0,157768,0,0,0,0,0,0,0,0,0,0,0,0,0,13603453,21571189,0,0,0,1646788,316472,0,0,0,0,3286448,0,0,0,0,0,0,2333684,0,0,0,90777,0,0,4505,0,0,3387000,0,0,0,0,0,0,771317,0,228136,0,830129,0,0,0,0,0,49970,0,0,0,0,0,0,0,0,0,0,0,0,0,0,0,0,17472,0,0,0,0,0,0,0,0,0,16661077,0,0,7449681,0,494506,0,0,0,2801508,0,0,0,70958,0,0,0,0,0,0,0,0,643557,0,0,0,0,0,0,2334228,0,3447633,0,0,0,0,0,4444,0,4842699,0,0,0,0,0,0,0,0,0,0,0,0,0,0,0,0,0,0,0,0,0,0,0,0,0,0,0,0,7087452,0,0,0,0,0,0,0,0,0,0,2642899,0,0,0,0,0,0,0,0,0,0,0,0,0,161820,0,0,0,0,0,0,0,0,30400,0,0,0,0,0,0,0,0,0,0,0,0,0,0,0,0,0,0,0,0,0,0,0,1100000,0,0,0,0,0,0,104507,0,0,0,0,0,0,0,0,0,0,0,0,0,0,6921,0,0,67790117,0,0,0,0,0,0,0,0,0,0,0,0,0,0,0,0,0,0,0,0,0,0,0,28281,0,0,0,0,0,0,0,0,0,0,0,0,0,0,0,0,0,0,0,0,0,0,0,0,0,0,0,0,0,0,0,0,0,0,0,0,0,0,0,0,0,0,0,0,0,0,0,0,0,0,0,0,0,0,0,0,0,1301696,0,0,0,44695,0,0,0,0,187674,0,0,0,0,0,0,0,0,0,0,0,0,0,0,0,0,0,0,0,0,0,0,0,0,0,0,0,0,0,0,0,0,0,13684,0,0,0,0,0,0,732655,0,0,0,0,621752480,773312399,714766572,78739897,752100229,955119788,652105443,233555708,348319861,103215094,369330363,211817906,349424282,288747895,746000000,463360063,477200000,126069509,38697217,245500000,174600318,13993093,708200000,192330738,106645357,705717432,370541256,11305175,542307423,268031828,529076069,758410378,32556119,102529779,609123048,13500000,206172544,469160692,0,114178613,121201940,136621271,215529201,373552094,212902372,337580051,66980456,188441614,53181600,259207227,2360281,45967935,108782847,19682924,44349000,12007070,243400000,362637473,83719388,0,123494610,268157400,78874843,86165646,4439431,305151265,336472,153997819,1075178,11110975,50549107,222809600,3000000,0,0,18658381,239379423,103039258,196781193,272912430,0,39407616,0,500188435,169837010,15060457,154984035,163442937,66787908,3494070,0,20300000,52501541,117831631,35926213,133821816,0,97437106,54837234,203277636,18612,0,88880821,108255770,28883511,266586800,1171559,857522,0,600896,0,160602194,0,0,151165787,1625847,17508518,0,0,645186,0,53830415,41797583,40100000,12096300,0,34077920,2295423,70181428,9104716,4507463,59209,3396726,255273813,0,0,71154592,26049082,0,28831145,68896829,6676471,100525432,0,176391,1822250,0,0,5284309,0,0,30800231,7523634,0,2367161,0,0,258384,0,15520023,6833445,32339326,0,100654149,41296320,2429989,0,427418,200406,0,0,0,7500000,56574,67347013,49002684,38307627,5483299,1430655,0,108808,0,37151,5380251,3485127,1124445,67800064,0,4571025,15071,5155325,770706,0,0,30127963,0,0,0,0,2146041,0,0,48390,0,0,0,0,0,17834867,0,31554855,25434291,31911598,13865435,0,1554000,2450846,13287735,0,111996,0,0,9318,54915,0,4635300,0,52424533,0,0,0,0,26501323,169976,0,80383113,11486,0,0,0,0,1826705,461162,0,0,0,0,0,0,1020921,0,28641776,101332962,0,0,0,0,0,0,0,0,0,0,0,0,0,0,61279452,1338365,14947,0,0,25312387,5405500,0,0,0,0,0,0,985007,88273,0,0,0,0,0,0,0,0,7171,0,2262223,0,149337,5000000,0,0,0,0,0,0,0,0,0,0,0,0,0,0,16337881,32251,0,395000,8251,121179,0,0,14618727,0,0,7176347,0,0,0,10429707,0,45300000,126150,0,0,0,0,0,0,0,0,0,0,3123963,0,0,0,0,0,0,0,39171130,0,0,0,0,0,0,3430018,0,2365467,0,0,0,0,0,0,0,0,0,0,0,0,0,13769,0,0,0,1009620,15000000,0,75143,0,0,0,0,0,0,0,0,0,0,0,4453524,0,0,0,0,29789000,0,0,0,0,0,0,0,0,0,2756,0,0,0,0,0,0,0,0,36433975,0,0,0,0,0,0,0,0,0,0,0,0,0,0,0,0,0,0,0,0,0,0,0,0,0,0,4013786,7205,0,0,0,0,0,0,0,0,0,0,8265,0,0,0,0,0,0,1503616,1156000,0,0,28208,0,0,0,0,0,0,0,0,0,0,0,0,0,0,0,0,0,0,0,0,0,0,0,0,0,0,0,0,0,0,153516,0,0,0,0,0,0,0,53086,0,0,0,0,0,0,0,0,0,0,0,0,0,0,0,0,0,0,0,0,0,0,0,0,2710,0,0,0,0,0,0,0,0,0,0,0,0,0,0,1169603,0,0,0,0,0,0,0,23000000,0,0,0,0,0,0,0,0,0,0,0,0,0,0,0,0,0,0,0,0,0,0,0,0,0,0,0,0,0,0,0,0,0,0,0,0,0,0,0,0,0,0,0,0,0,0,0,0,0,0,0,0,0,0,0,0,0,0,0,0,0,0,0,0,0,0,0,0,0,0,0,0,0,0,0,0,0,0,192400,0,0,0,0,0,0,0,0,0,65460,0,0,0,0,0,0,0,0,0,0,0,0,0,0,0,0,0,0,0,0,0,0,0,0,0,4878242,0,0,0,0,0,0,5240,0,0,0,0,0,0,0,0,0,0,0,0,0,0,0,0,0,0,0,0,0,0,0,0,0,0,0,775398007,185438673,71215869,38251425,0,303788635,50750000,0,0,16000000,0,237113184,31063038,126737428,0,26414658,0,0,28000000,0,0,0,30749142,30000000,0,7000000,0,0,0,0,0,0,0,0,14717854,12000000,1258000,41687243,0,17000000,0,9000000,0,25000000,0,0,0,0,0,0,0,3,102000000,0,0,0,0,2781505847,319131050,91327197,933959197,731342744,385680446,371353001,210819611,524028679,60722734,886686817,459270619,185258983,769653595,48428063,356613439,267045765,309208309,102391382,709827462,177259441,302469017,317375031,75871032,205298907,242988466,46471023,124596398,413106170,136267476,325233863,0,93525586,183293131,47801389,126690726,33333531,34560577,20645327,0,90842646,0,155446362,9760104,292817841,0,150166126,31912793,108332743,102223269,40828540,0,3547209,171844840,43318349,27635305,381509870,2357852,129540499,8459458,214104620,0,31556061,41596251,40105542,186167139,443140005,3606395,114663461,63647833,87784194,76514050,8049666,91636986,35424826,106303988,29000000,36348784,0,51416464,101229792,948753,791867,0,36133014,45465299,29536299,68233629,27409889,31430334,22852638,12032983,12206028,41624046,0,10652035,754249,0,17280326,0,70000000,836297228,68729358,0,60462347,5210988,100086793,219103655,0,0,0,0,68688831,122233971,104945765,4706919,77527732,0,0,0,62357900,744816,1644755,19406406,100734718,0,0,0,92219310,199436,39041505,0,10629321,10589102,61808775,1017401,22942221,5802422,0,0,0,28169671,0,985117,26096852,61458982,0,163670000,44091067,60161391,0,0,875386,363164265,0,0,17436509,0,0,0,39421467,0,24007324,0,155545279,32474120,8786375,0,57881056,0,2277396,0,9444018,27412220,0,18097,42333295,0,5024782,0,0,0,867714,60000000,0,0,0,0,0,0,0,4440055,0,0,0,0,17164377,10848783,0,44462,0,0,53825515,0,1521261,0,0,14899417,20455276,95714875,0,0,1162422,31720158,0,91379051,0,1037335,0,0,0,10329747,122444772,0,0,0,12764201,73034460,0,0,0,0,73830340,113221,0,0,0,0,0,16633035,0,0,6149791,0,0,0,0,0,0,0,0,7810000,0,143191,0,0,0,0,341131793,0,0,0,4100000,0,0,0,0,296557,0,6670712,0,0,19258519,0,44348,0,0,0,0,500154,4388563,0,0,0,0,0,0,0,29010817,2336172,28972508,0,0,0,0,0,0,0,0,0,0,0,66456,0,0,0,0,0,0,0,0,0,0,27206120,0,0,0,0,0,0,0,0,0,0,0,0,0,0,0,0,0,0,0,0,0,0,9366227,0,7022728,0,0,0,18599102,0,2479538,0,0,134,295750,0,1007962,0,0,263941,0,0,0,0,0,0,0,0,0,0,0,0,0,0,0,0,6405245,0,1296971,0,0,0,0,0,0,0,0,0,0,43051547,0,0,0,0,39462438,0,0,0,0,0,7306,0,0,0,0,0,0,0,0,0,0,0,0,0,0,0,0,352810,0,0,1429299,0,0,0,0,0,1896244,0,0,0,0,0,0,0,0,0,0,0,56000,0,0,0,0,0,0,0,0,0,0,85280250,0,38610009,0,0,0,0,0,0,0,0,0,0,0,0,0,0,0,0,0,0,0,0,0,232732,0,0,0,0,0,0,0,0,0,0,0,0,20719451,0,0,0,0,10000,0,0,0,0,0,0,0,0,0,0,0,90508336,0,0,0,0,0,0,0,0,0,0,0,0,0,0,0,0,80,0,0,0,400654,0,0,0,0,0,0,0,0,0,0,0,0,0,0,825500000,623933331,1025467110,327803731,954305868,543513985,274470394,494878759,294804195,400062763,591794936,1063171911,293329073,35692920,74952305,415686217,96188903,278346189,335154643,310669540,252276927,232713139,215283742,0,224920315,47664559,310650585,126248813,226497209,167805466,752600867,114977104,177238796,71664962,31327899,271430189,157107755,152263880,154026136,0,698491347,321885765,318502923,170432927,0,97009150,159291809,414211549,102820008,20348249,18409891,7644937,261930431,0,204594016,12355734,136000000,29922472,94882889,237382724,77477008,48190704,49830607,2995811,216485654,36993168,0,136150434,357852395,211780824,3453043,52615806,60222298,6491240,51148651,115664037,23580000,9190869,90029656,0,10539000,0,0,0,80547866,7871522,98159963,67918658,3317662,288347692,32005248,93246388,64572262,0,24145613,1755212,140073390,69055695,89519773,4882577,42045846,23081726,0,177512032,9455232,6629178,65464324,0,55583804,0,4242978,4430765,105610124,6814789,5332926,0,0,851517,9479718,75700498,572809,83188165,58785180,6732980,16178959,67738090,112462508,0,24188922,498974,7000000,19152480,86387857,36699403,0,0,34705850,0,66821036,45636368,0,0,0,13831503,0,46488,112483764,0,6110000,0,0,6153967,48668907,0,0,0,8212430,0,98017,3826,45236543,49779728,265318,0,204940,0,4644108,105197635,0,19829957,967000,967000,15478800,0,49050886,0,88335,382946,1000000,83761844,6467348,538000,0,3065860,134748021,0,0,0,871279,0,0,0,8020,0,0,0,18124262,0,2614773,0,54956140,0,0,0,5129058,0,39300000,0,0,0,0,430041,0,0,0,201584141,0,0,18144030,0,0,21520719,0,324138,346594,0,0,0,0,0,0,0,18000,0,0,0,0,0,0,20529194,0,0,4790751,850994,0,16504936,0,0,0,0,0,0,15134293,0,33583175,539957,42145,0,0,0,0,0,0,0,0,0,0,338987,21409028,0,0,0,1000000,0,8454301,693181,0,74901339,0,0,0,0,1163967,55125,0,0,0,0,3045943,39340177,1083683,0,0,52604,0,0,0,0,0,0,0,4634062,0,0,0,0,0,0,617000,103735,0,3878993,215576,0,0,0,0,0,33245,0,0,0,0,0,1422910,11087569,0,4349187,0,63931,0,0,0,10,0,55089,4270000,0,0,0,0,0,0,0,0,0,178174,0,0,0,0,0,0,0,1279,0,187716,0,453079,0,0,0,0,0,123820,0,0,0,0,0,0,0,0,0,0,0,37000000,0,0,0,0,0,951179,0,3218666,0,0,0,0,0,0,0,10967,0,0,0,0,0,876302,0,22270,0,0,0,0,0,0,0,0,0,0,0,0,0,0,0,14870,0,0,60072596,0,0,0,0,296221663,0,0,0,0,0,0,0,0,0,0,0,0,0,0,0,1068682,0,0,0,0,0,0,427628,0,0,0,0,0,0,0,0,5980,0,0,5000000,0,0,0,0,0,0,0,0,60251371,0,1339650,0,0,0,0,0,0,0,0,43,35456,0,0,0,0,0,0,0,0,0,100853753,463517383,356296601,924317558,415885488,284600000,672806292,361832400,75902208,206071502,0,235483004,212404396,485015179,53478166,363889678,310940086,11540607,60289912,90683916,162091208,22863596,176885658,300135367,151493655,222104681,61698899,211989043,88545092,23159305,73648228,0,161626121,309457509,103166989,177841558,30471,12827813,10409377,93700000,248000000,58401898,73956241,18564088,234801895,0,96618699,30652890,0,0,91188905,93888180,40263020,0,118880016,149705852,50041732,21133087,0,0,48451803,36911617,14010690,128798265,56870414,4217115,29762011,0,90874570,28451622,84565230,0,0,108000000,47434430,13000000,0,40846082,0,0,0,124305181,74608570,2856712,10827816,117758500,17762705,0,5241315,0,0,15156200,0,0,0,10667893,0,0,0,0,0,0,11263966,0,73345029,18653615,19598588,36850101,0,3193102,13,58900031,17843379,0,0,16290976,0,18535191,0,0,65535067,0,4152230,100230832,28121100,0,4000000,14011454,0,8946237,0,0,0,0,0,0,0,0,0,0,0,10571408,0,0,34573780,4398989,14859394,0,0,0,0,8888143,13260050,0,25059640,0,6852450,0,29000000,0,0,0,66976317,0,0,0,0,1531251,8434146,0,0,1943649,0,0,0,635096,0,3076820,0,0,27500000,4488529,12000000,0,0,0,0,7292175,0,0,0,0,0,239894,0,0,0,0,0,0,0,2049595,36450736,0,0,0,0,0,28200000,100,0,0,0,0,0,21001563,0,0,0,0,0,0,0,0,871368364,976475550,20117339,1270522,562816256,235926552,484409218,281929795,450717150,449220945,433013274,186053725,274703340,313542341,287553595,165335153,179213434,362211740,71441250,83282296,96976270,172989651,141774679,117487473,60780981,66468332,141220678,347325802,104876233,209947037,80936232,33788161,77516304,93375151,203388341,0,64437847,143049560,147080413,141069860,0,0,17833000,85131830,3176880,35402320,176104344,91753202,59217789,0,0,74558115,27642707,105178561,18492362,94728529,85498534,87754044,16000000,147845033,36642838,40270895,0,0,0,0,16991902,0,50315140,0,637769,100020092,0,39438674,13110448,0,29700000,0,0,24185781,0,23619609,56359980,16017403,40222729,98376292,0,0,87713825,125000000,373967,71069884,44909486,30987695,0,79958599,28008462,65754228,31155435,0,23430766,0,37317558,18720175,0,490475,0,0,4099000,14010832,19351569,0,35743308,0,13596911,0,0,0,10424470,15705007,207283925,705308,91038276,0,480811,0,0,147934180,29400000,0,0,67631903,84772742,12000000,0,0,16929123,0,0,54744738,14782676,0,0,0,13678913,351692268,54249294,0,0,44460850,0,0,0,0,0,0,0,0,741394,0,19693891,295206,0,0,0,0,0,416925,17292381,5409517,0,0,4186931,0,0,0,0,23978402,0,0,0,0,0,0,0,0,0,368780809,0,0,62112895,0,0,0,0,0,0,0,0,10013424,0,0,0,27053815,3646994,0,0,1667192,0,0,0,0,2025238,13276953,0,0,7316658,0,0,0,0,10229331,163169,5476060,0,0,0,0,0,0,0,0,29381649,0,0,0,0,0,0,0,0,0,1001921825,521311860,585174222,226830568,786636033,392616625,586090727,631744560,18755936,609841637,333932083,401128639,163712074,269958228,603900354,160388063,222231186,101702060,258270008,0,377910544,108979549,200276000,266000000,624029371,42000000,170000000,419651413,188072649,178066569,20416563,113244290,73762516,150816700,233093859,0,168167691,170764026,309979994,105173115,49554002,225990978,244082376,113280098,163720069,160259319,57490374,69823199,64822796,128107642,55447968,111231041,41627431,101624843,44703995,212874442,10089373,85416905,72436439,151161491,42105111,230685453,92380927,0,0,0,0,72108608,0,32002538,113020255,162839667,43493123,22707064,0,0,0,0,65569869,32973937,163733697,0,8900000,70442940,0,68282844,113857533,41819064,93945766,96408652,297138014,0,18130888,127906624,0,0,73174566,5926410,23530831,201596308,51155219,2434658,32483410,0,0,82391145,0,54586584,7033683,68369434,50907234,0,0,17869048,84601681,0,558000,17741298,25739015,56309766,14894347,42487390,84646831,11207130,0,0,0,19844979,39031337,204660,186702,3983997,20211394,382174,163403799,22211426,7070330,0,0,11125849,0,0,415252786,8762890,0,50877145,0,0,25871834,38105395,0,1143856,149281606,0,75225693,0,16174377,0,0,0,0,0,2724474,0,0,0,0,8936663,16051363,31148328,124191,0,69497,63833449,0,6230276,0,0,13204291,0,68397662,5530764,50650079,0,40855419,240476,5231128,0,0,0,0,367638,0,0,0,0,0,0,0,0,3148182,2000000,44352417,9793496,6575282,1115493,50007546,22896728,0,2960993,38135878,0,84375061,0,63800345,0,27640028,0,0,0,0,0,0,0,0,0,0,0,4496912,0,0,3800000,0,0,0,13000000,14796236,0,0,3830137,0,1296184,2899975,6673422,194287,44872,0,0,0,0,0,0,38804615,0,0,0,41939392,0,69564,14109284,2957978,0,9323833,0,0,0,0,0,36620508,23550000,0,0,3533227,188126,2033165,0,0,0,0,0,0,0,0,17600000,1107542,0,0,0,0,0,0,0,0,0,0,0,0,1829917,0,0,165888,29506464,0,0,0,33456317,0,0,10569964,0,0,0,0,0,0,0,0,0,100076342,0,0,0,0,30000000,0,0,0,0,33472850,0,14879423,17286299,0,0,0,0,0,0,0,0,530048,0,391410,0,0,0,0,0,0,0,43650785,0,0,0,0,414404,0,0,0,0,76000000,0,0,0,3,0,0,0,11100000,0,0,0,0,0,0,0,0,0,0,0,0,0,4040588,0,0,0,0,0,0,11295,850575,0,0,0,0,0,0,1300000,0,0,0,11000000,0,900689,0,0,0,0,9,0,0,0,0,0,0,0,107559,0,0,0,0,317000,0,0,0,0,0,0,0,307811,0,0,0,23311391,0,0,15500000,0,0,0,0,0,0,0,0,0,0,0,0,0,0,0,0,119563,0,0,0,0,0,0,0,0,0,0,0,7700000,0,0,0,0,0,0,0,0,0,0,0,0,0,0,0,0,0,0,0,0,0,0,0,0,0,887029,0,0,0,0,0,370569774,76175166,1327817822,1021683000,482860185,444115007,173930596,28931401,51070807,147332697,694713380,142851197,232617430,161849455,665692281,214918407,117000000,299268508,150483765,216197492,334615000,559852396,219851172,254455986,147780440,371940071,288383523,83160734,260095987,89792502,89162162,712171856,17693675,0,187361754,54674226,144492830,484635760,133432856,169852759,174822325,0,177584879,39187783,245724603,75450437,185770160,85412898,149217355,59389433,57777106,96047633,14460000,132274484,0,1749457,0,151119219,78309131,0,22939027,23057115,82087155,130786397,127869379,226904017,3542353,36160375,97552050,0,88025781,60965854,202466756,157887643,2527904,149673788,30426096,88100000,35057696,0,120081841,201146,64626786,124272124,77278331,110206216,6038942,40492759,554987477,0,227817248,59901913,48795021,0,160078586,135458097,0,7448385,43165571,35387212,28128670,152930623,142044638,26121638,0,0,0,0,25562924,24922237,150406466,97138686,38992758,3964682,72417394,0,55247881,0,342695435,970816,10324441,136836156,563749323,908000,63782078,15699707,68945,29007412,0,864659,3142154,19504039,189712432,741875,6861102,177243185,183953723,24000000,0,19560274,0,17273593,610986,63543328,1296937,9612469,27603069,1776935,75993061,12000000,1123746996,205703818,0,67112664,6928068,9504139,0,14347000,25345000,165184237,85564310,120000,0,0,34710627,12355798,0,45735397,0,0,0,27122040,34942188,42070,0,868439,0,175706,0,0,0,78396,163265,0,0,1072602,84606030,108609310,0,30551495,27462041,47088990,40547440,209696,13521829,72689,0,0,0,0,0,17479,0,0,114156230,38502340,1759252,0,0,1378,0,972512,3538446,3099314,10130000,22321,8452,14624826,0,0,0,0,0,34522221,0,0,5446000,0,0,3665069,0,0,83615414,0,0,0,2500000,0,95404397,0,0,34564651,0,33662874,0,0,0,626137675,0,3358,0,303877,0,355688,0,0,37710610,0,0,13101672,1188194,0,0,0,100915,0,15240456,3200000,0,0,17425000,10654385,0,0,0,0,0,46495,623528,0,0,0,3696232,0,0,0,0,30905,144633,114956699,0,0,1104682,0,5728213,0,122550,0,0,0,17801,0,253899,0,0,12186625,0,664747,10126458,0,0,0,0,672648,53213633,0,0,0,0,4627375,3838,0,0,0,0,0,11790979,0,0,0,0,0,0,0,0,0,0,0,0,0,0,0,0,0,0,5634828,0,0,957240,5576725,0,0,0,0,0,0,0,0,0,0,1406224,1332231,0,0,0,0,0,0,3759582,0,0,0,0,0,0,0,0,0,0,0,5206,0,0,469947,0,0,171760,0,0,0,0,0,0,0,98441954,0,0,0,0,0,0,7732325,0,0,0,0,0,0,0,0,0,0,0,101236,4417580,0,22000,0,0,1126525,0,0,0,0,0,0,225861,0,0,344420111,0,0,0,0,790421,0,0,0,0,0,0,0,2550508,0,0,0,1000000,0,366377,0,0,0,0,0,0,0,0,0,429766,0,18663238,0,0,0,0,0,0,0,223959,0,0,0,0,3100000,0,0,0,0,0,0,0,15,0,0,0,0,0,0,0,0,0,0,286201,0,0,0,0,0,0,0,0,0,0,0,0,0,621951,0,0,0,5355847,0,0,0,0,0,0,0,0,0,0,0,0,0,0,0,0,0,0,0,0,0,0,0,0,0,0,0,0,926287400,876688482,383257136,214034224,102441078,821708551,649398328,352114312,441818803,120072577,358372926,145771527,43928932,277448382,109578115,431971116,82719885,154906693,155010032,193772504,196397415,169956806,38275483,215000000,171269535,76578641,0,93354918,408247917,249348933,0,41227069,368744044,129000000,0,78382433,97837138,67312826,5359645,16856124,108846072,181001478,296633907,172855065,113714830,68349884,275650703,0,122563539,6416302,9304609,165333180,33561137,35564473,13060843,447741,0,193,0,114660784,64282312,35081550,56298474,56714147,32801173,180622424,75781642,9237470,123729176,12398628,68696770,0,77628265,102244770,0,0,0,119137784,94935764,17000000,35168966,0,0,0,45479110,119723358,0,51801187,33526835,109862682,0,16872671,6413915,0,0,306776732,52223306,16838910,23833131,22433915,0,0,43061982,77741732,19576023,63781810,10011050,32287044,105834556,51842679,26199517,30002758,0,29882645,27674124,0,20957001,0,55157539,0,0,29027914,75597042,65977295,0,33013805,0,0,0,0,0,19924033,0,6916869,0,0,0,38793283,37664855,676698,0,0,52970014,75395048,12633747,0,0,0,0,0,0,27362712,0,0,23367586,0,0,0,0,4777465,0,598645,0,8586376,0,150277,61141030,7103973,0,10719357,0,0,13102295,0,0,0,209196298,0,16930185,773228,0,52322400,0,57588485,0,0,0,0,0,0,0,0,0,0,0,0,0,0,0,0,0,0,25482931,0,18902015,0,0,0,2062066,11411644,0,0,10113733,0,0,0,13308,2506446,0,33082548,0,8493890,0,0,0,0,0,0,0,0,41604473,0,605562,0,0,0,0,0,0,0,0,217201,0,0,0,1260761,146402,0,0,0,0,0,0,0,0,0,0,0,0,0,0,0,0,0,0,1434436,213928762,28341469,677945399,788241776,350448145,247275374,51132598,223664608,0,378882411,351583407,0,196567262,215887717,50282766,3151130,119208989,189833357,160638883,30156002,254700832,0,45610410,117615211,94000000,0,341631208,46264384,120000000,107217396,0,126247,214015089,37000000,18090181,48063435,3049135,9771658,13670688,15826984,0,0,19726050,5887457,101646581,25052000,0,0,0,0,16478900,0,15119639,99423521,170362582,0,11373501,36800000,49000000,1596687,0,0,0,112006296,24332324,29392418,0,11300653,8009329,0,20079850,2201126,0,0,71368,0,0,50236831,0,0,0,0,0,0,0,0,0,0,16668552,0,0,0,18137661,106683817,0,13145977,0,7830611,0,28881266,2341309,0,0,0,0,0,0,763847,11439193,30626182,1422749,0,0,0,21011500,0,6841570,0,5777916,1907743,0,0,0,0,0,0,22200000,15240435,0,0,67308282,0,2260622,0,0,16671505,185898,0,7690013,0,0,21355893,0,0,0,7820688,0,0,0,0,0,0,16453258,0,0,0,0,0,8638072,0,0,0,0,3174695,305070,0,0,0,0,0,0,0,0,0,4352094,4350774,0,0,0,0,50021959,0,0,0,1519557910,132400000,1081041287,425368238,1108561013,276572938,1017003568,403170142,205738714,752215857,538983207,396600000,201585328,609016565,877244782,549368315,218340595,180274123,471222889,115350426,624026776,691210692,198802074,130482868,312573423,376141306,245527149,33400000,232324128,234989584,167221571,66486080,306941670,196114570,355692760,1353868,40346186,112265139,8106475,0,348840316,68263166,0,41037742,303025485,0,0,0,441809770,183018522,284139100,47042000,829000000,132820716,33372606,301000000,140470746,145000000,81272766,358375603,77712439,73100172,48126384,68929150,275293450,79700000,179379533,8135031,99357138,100000000,63100000,81071,746921274,0,53676580,18100189,29657751,59418613,2106557,0,0,68267862,118338361,28258060,0,53909751,88058786,32204030,24159934,127730736,81491068,58058367,208076205,47000000,0,6294161,0,161772375,46221189,19422261,24719215,8303261,0,31081,3428048,12434778,8493728,23570541,85446075,52302796,37930465,16863583,0,35485056,1969193,104907746,0,44806783,13551174,54819301,114281051,0,587615,15608545,6483963,0,89237,22044277,0,0,0,0,73244881,18112929,3003,1065881,0,30353232,36893721,59520298,1576687,51854875,9128263,0,107139399,8138788,77112176,0,258656,0,9622846,50365377,0,0,11417362,0,1165882,0,31083599,11947954,0,41863726,0,9138338,0,9636289,0,5310554,0,13231461,0,0,0,142817992,18295,8784318,1663931,1402307,0,8139,0,30668,0,0,0,0,0,0,0,1243961,0,0,0,0,0,119772232,0,100345,8887603,101758490,0,0,6842058,432274,0,0,0,0,3346265,0,96070507,0,14400000,0,0,0,0,0,0,0,66351,0,0,0,34153101,61782,319285,0,0,19633027,3010,0,0,21107746,0,0,0,45250,0,0,641100,0,4636169,4007792,0,0,0,0,0,0,2521,0,0,9627492,0,0,0,0,0,0,0,0,0,1653792,0,1005700,0,3325038,0,0,0,0,0,0,6063556,0,0,0,0,0,0,0,0,0,0,0,0,0,0,0,0,0,0,0,0,0,0,0,0,0,0,0,0,0,704,0,1081,1938,0,252603,0,0,0,0,30,102388,0,0,0,419953,3094813,525,0,0,0,0,0,0,0,0,0,1697294,0,0,24995,0,0,0,0,0,0,0,0,22930,0,5750,376597,0,0,0,0,0,0,717205,240159255,0,0,0,0,6508,0,0,0,0,2750275,0,0,0,0,0,0,0,288312,0,0,0,19450000,0,120680,0,0,0,0,0,0,0,0,0,0,0,0,0,0,0,0,0,0,0,884100,0,0,0,14752,0,0,540152,1328467,181107,0,0,0,0,0,0,0,24637469,7034007,0,0,0,1562546,0,0,0,1775316,0,0,0,14567,11620000,0,0,0,0,0,0,0,0,0,0,0,0,0,0,0,0,0,0,539896,610792,0,0,0,0,0,0,0,0,0,0,0,0,0,0,0,0,0,0,0,0,1000000,0,0,0,0,0,0,0,0,0,0,95000,0,0,0,0,0,0,0,0,0,0,0,0,0,0,0,0,73706,0,0,0,0,0,0,0,3903479,0,0,0,0,0,0,0,0,0,0,0,0,0,0,0,0,0,0,278000,0,0,33400000,0,0,0,0,714544,0,0,279735,0,0,0,0,0,32726956,0,0,0,0,0,1632,0,0,0,0,0,0,0,0,0,0,0,0,0,0,0,0,0,0,0,0,0,0,0,0,0,0,0,0,0,0,0,0,0,0,0,0,0,273747,0,1118888979,95708457,655011224,180949000,424988211,738599701,864625978,484572835,244931766,173398518,435000000,15121165,122919055,179179718,231449203,179265204,176070171,135680000,119723856,76488889,160583018,250,121975011,220673217,62646763,44350926,131282949,456758981,273339556,156505388,28650575,90259536,212011111,0,156822020,0,195745823,74208267,245360480,98185582,0,87055349,177371441,88323487,116643346,85632458,124914842,0,0,110230332,26288320,19480739,96269812,259175788,266728738,182290266,19322135,141591324,60427839,90426405,0,107071655,101191884,190212113,173013509,0,0,0,4601043,114908830,56489558,0,68514844,42792561,80916492,0,236350661,15614000,0,0,0,0,68296293,101564935,0,0,164433867,65565672,148336445,55495563,63102666,55534455,75715436,0,6585516,0,197011982,20298207,11560806,119940815,34234008,16942795,0,12991996,0,30553394,80154140,0,0,0,60378584,23,0,132675402,0,7266209,12923936,0,2,39267515,31466789,50097949,0,0,343816,0,37095657,742898,0,38955598,0,10012022,7897645,13818181,41400000,0,0,0,16829545,17432163,0,52277485,2500000,21384035,0,0,0,0,51142659,22441323,0,0,18750246,0,0,0,0,819939,8679814,0,30238577,0,4856298,0,0,0,20440627,0,0,0,0,0,0,0,0,0,0,0,0,96542059,0,460978,9726954,0,3031801,3117985,58795814,0,0,23510601,0,0,0,17040871,6003587,0,0,0,0,33828318,0,0,0,0,0,0,0,0,0,0,0,4500000,0,5,0,2281585,0,0,0,0,0,0,0,0,0,0,13885802,1569918,0,0,0,0,0,0,0,214948780,0,2466444,0,0,0,0,0,1628154,0,0,15368897,4922166,0,569217,0,0,0,0,0,0,0,0,10000000,0,7808524,0,0,0,0,0,0,0,0,0,0,0,0,0,0,0,0,0,0,0,0,0,1845034188,252712101,589390539,12532777,263920180,238207122,0,333011068,225933435,39673162,162000000,109423648,26673242,139804348,79082515,67683989,121214377,257850122,224012234,245676146,41954997,125586134,152944660,136885767,12021272,178127760,164508066,126216940,172363301,181000000,0,171120329,1060056,45916769,0,159330280,28084357,0,177977226,118063304,136982834,315156409,0,64256513,314178011,50159144,131457682,299288605,43101594,3675201,10541523,0,0,0,251212670,140807547,0,25804707,43312294,60527873,50068310,36400360,6682098,0,25480490,5716080,29481428,87840042,0,501818,5684789,17626234,48169156,33956608,0,0,1179002,0,0,0,0,0,0,0,16000000,0,122417389,3263585,0,0,0,44862187,0,60000000,100000000,8038061,0,23144499,29235353,0,0,3566637,0,51376861,0,31987563,0,0,0,15738769,31611225,0,17979739,0,0,273644,0,13801755,11466088,0,0,0,9381260,1686429,0,0,0,41230799,0,0,0,4000000,0,44332015,791830,0,34673095,0,0,0,0,11838218,27354,0,0,0,0,0,0,25105255,0,0,0,0,0,26570463,74000000,0,6330054,13130349,229074524,6482195,7240837,310724,20060051,5790448,0,0,0,0,0,29456000,0,0,0,0,4529843,0,0,0,5926128,0,0,0,861789,0,0,0,0,1334786,0,1274219009,716392705,479765000,1215439994,117698894,847423452,392000694,407602906,286168572,958400000,662845518,47351251,970761885,467365246,187000000,98337295,318000141,351040419,2227167,286140700,304654182,89328627,743559607,531865000,188133322,125537191,269994119,131940411,87100449,90247624,371876278,32935319,161025640,174578751,122126687,0,251171807,116980662,0,224803475,150962475,0,90565421,268426634,149295601,10285896,55198285,61648500,0,219788712,31724284,104810,68572378,97542952,134402450,36894225,0,76586316,35485608,246984278,362000072,585178928,43058898,122915111,82394288,95000000,71009334,205366737,63464861,21819348,1456675,1600000,197687603,62616646,9489829,7847000,51164106,126041322,151831537,46216641,243843127,0,158674180,112544580,29000000,44030246,89289910,105200903,173965010,0,12077441,0,6108720,47241945,6854611,24261569,173649015,0,491868548,282570682,8352885,86175291,0,5750401,63327201,4861022,20275812,146497771,0,57284237,18000000,0,115922175,32438988,48065672,74597643,44907260,16505460,0,15008161,97594140,0,0,7800000,19145732,3639345,15600000,248384621,0,97505481,1021398,0,0,28234657,60141683,10337387,63372757,16971,0,19255873,27437881,21587700,0,0,318982,22309223,19701164,343341,0,0,126546518,0,0,74918,9747,60052138,5496951,347434178,5867686,95020213,1585582,0,23198652,8555008,6399,2415472,415440673,42930462,110000000,17654912,0,78378744,2681345,64065,0,102617,2054941,22456509,523511,0,0,74188937,4069826,0,0,0,21833,3346257,1162635,0,0,0,11650,11176469,0,175705,86362372,0,0,0,0,0,35931410,25174316,2963902,0,13785015,0,0,39881,34664,0,0,0,1189612,809,0,0,17385830,0,0,10900434,15400000,3566225,0,0,0,0,788679850,0,0,0,0,0,16549477,0,0,0,0,444098,18074539,0,10000000,0,3302463,0,0,641,6420,0,0,27187375,30283,0,18642,0,0,7018189,0,0,0,0,4187,0,0,0,0,0,81381,0,0,1234254,0,0,0,9221,0,2225098,0,0,0,1031243,6147,0,0,0,0,0,0,0,455815,1034589,0,0,0,0,0,0,11294,0,9630444,0,0,0,0,7972967,0,0,0,2915767,18662027,0,0,25288872,0,19613,0,0,0,2159041,32230907,0,0,0,2401510,40400,0,0,71625195,0,0,0,0,0,15000,0,0,0,0,0,0,0,0,0,0,0,0,21660,383294,0,9494789,0,180590,56825,0,125,519535,0,0,0,0,0,0,122,0,350006,0,9195,0,0,0,0,0,0,0,0,7965,8326,0,0,0,0,0,0,0,0,0,0,0,0,653651,0,0,0,0,0,0,0,0,0,0,0,0,0,0,0,0,0,0,0,0,15179302,228,0,0,1066471,0,0,27330000,0,0,0,0,0,100129872,0,0,0,0,0,11,0,0,0,0,0,0,0,21766271,0,35022,0,0,0,0,0,0,0,0,0,0,0,0,1359910,0,0,0,0,0,0,0,32846,0,0,0,0,0,0,0,0,0,0,0,0,0,0,0,0,0,0,0,10501938,0,0,0,0,466088,0,135039,0,0,0,0,0,0,0,4793,0,0,52164,0,0,0,0,0,0,0,0,0,0,1675381,0,0,0,0,0,0,0,0,0,0,0,0,0,0,0,0,0,0,0,0,0,0,0,0,602042,0,0,0,0,0,0,0,0,0,0,0,0,0,0,0,0,0,0,0,0,0,0,0,0,0,0,0,0,0,0,0,0,0,0,0,0,0,0,0,0,342000,0,0,0,0,0,0,0,0,0,0,0,2861020,97,0,0,0,0,0,0,0,0,0,0,0,0,0,0,0,0,0,0,0,0,0,0,0,0,0,0,0,0,0,44000000,0,0,0,0,0,0,0,0,0,0,0,0,0,0,37884,0,0,729043,0,0,0,0,0,68129518,0,0,0,0,0,0,0,0,0,0,137460,0,0,0,0,381109762,51525171,18432000,36230219,152427960,15502112,61389680,29999213,300400432,128499205,300473716,0,21288692,146292009,57500000,238227,14237000,68706993,24467000,85313124,7840873,24922237,49364621,55600000,6948633,34000000,14643997,21930418,23717291,20345361,0,0,0,38934048,41410568,10631333,42400000,0,96773200,0,2023414,20518905,0,13000000,0,0,0,331816,10609321,40940662,26657534,10297601,0,0,14202899,0,45833132,0,12303411,0,0,0,0,0,0,37803872,0,0,8800000,0,0,27400000,24689703,0,8692426,7936012,2135577,0,0,42160849,11137801,0,4122748,0,502758,0,14393902,10000000,1400000,0,17307019,25754284,0,0,9873044,0,0,12918858,6700000,0,0,8622757,2451545,0,10755447,0,0,0,0,895921036,374218673,748806957,132511035,158733820,474968763,850000000,104478416,162949164,532680671,330579719,230427240,285176741,52304001,113006880,591739379,162242962,109449237,314432665,368100420,85167639,0,122489822,211643158,154749918,550000000,95226116,44434439,121147947,178043761,260696994,0,71073932,39053061,478207520,3154346,142400065,24127895,64321501,56681566,161451538,117195061,192452832,88933562,0,21126225,96889998,0,38869464,152925093,102854431,66002004,52034889,0,92374674,80578934,15785148,108539911,85306374,51053787,122644820,131426169,83073883,0,55987321,50817508,129181830,50451307,58405313,7535331,162944923,105316267,18618284,77944725,110803676,130358911,144216468,24793509,22400154,94000000,0,57479076,42093706,91974818,10289,93772522,54600000,76669806,60740827,108047131,202026112,50871113,16809014,68915888,18564702,30526509,5967038,223387299,35294470,0,45742101,12482775,0,27762648,46770602,0,658573,186438883,0,42886719,46442528,56070433,866999,19294901,8342132,27645491,190320568,18637690,97918663,5989640,0,0,46201432,76932943,47175038,2405420,0,0,37691644,0,119269486,17297244,49084830,19478106,82466670,2455831,7022209,68766121,10166502,22944502,0,0,36351350,12382362,0,69425966,0,15431177,1117920,0,0,12036149,0,0,10047674,27610873,91196419,0,3919254,251495,0,30536013,674918,0,86369815,381420,57891803,0,40442437,0,0,0,0,2945242,92076,2697930,0,0,0,712294,72028752,0,0,0,0,38058335,0,4851244,0,22201636,13350369,0,0,0,10442808,67192859,23727301,0,0,0,0,0,0,0,0,0,0,1928985,0,15007991,31670620,0,0,0,0,0,11098131,0,0,0,0,0,3357075,0,0,0,0,0,0,0,653621,1919197,0,143000,7096000,0,0,3102550,0,0,0,0,206871,0,0,11588205,0,25224242,0,0,0,0,793604,0,0,973525,852872,0,84967,34252847,0,0,0,0,0,0,0,0,0,0,0,0,0,0,32645546,0,0,13411957,0,5048693,0,0,0,0,0,4386236,0,0,0,0,25473093,0,0,0,0,0,0,0,0,0,0,1410778,6584159,0,0,0,0,0,0,0,11718595,0,6856989,0,0,0,0,2019009,0,0,0,0,0,0,0,0,10422387,0,0,0,0,0,0,0,0,0,0,0,0,0,0,0,0,0,0,0,0,0,0,9879971,0,0,0,0,0,0,0,0,0,0,634074,0,0,0,111340801,1065659812,461983149,599045960,758239851,114194847,660940780,397850012,326551094,289847354,194168700,109676311,574480841,135330182,69959751,0,391081192,261572744,237681299,0,204999686,184376254,155019340,132180323,170877916,15309302,42931041,56308881,120455994,117719158,97607453,33889159,15304890,384335608,155721132,6086508,64459316,37384046,180557550,249288105,114830111,178262620,140175006,0,88715192,120175290,55181129,69623713,141702264,38159905,59908565,31070211,0,163794509,41009669,28000000,65900249,5179037,0,69834815,38755073,57103895,0,87528173,42647449,43545364,86915017,0,19179969,5549200,9450897,0,138259062,38629478,26888376,162966177,0,307077295,60474340,14655628,0,47231070,3669465,48027970,163876815,495303,80197993,49111202,0,181674817,7314027,0,7900000,2281089,130431368,100523181,101595121,0,0,0,38368909,119188334,68673228,0,5480996,0,53653224,162945894,84500122,42064105,0,0,1381665,7385434,48548426,38505009,6538177,197309027,0,72779000,3338228,0,154937680,62022014,2077763,13368437,72778712,55011732,1675484,374743,158468292,57806952,35078241,29907685,0,10903846,9448082,0,0,0,11772461,22165608,0,0,6754898,61112916,23937870,57231524,0,0,0,0,4291965,144,34742066,12506188,0,0,0,0,23006849,0,0,7177143,22889018,0,65664721,31584901,0,38399961,0,49469904,76286096,165000,480314,11400000,123384128,0,77920346,0,5914908,17800000,0,60896147,9500000,0,8974829,0,0,0,0,16158487,39143839,0,0,0,0,0,2294291,143451,0,82800000,1196307,580527,0,0,0,16627188,622806,23321954,13405595,16803753,6700000,0,41237648,0,37597471,0,0,0,0,0,0,0,0,0,0,66966987,1151330,745327,0,0,46396427,21510851,11130889,0,0,0,0,426224,0,21170563,0,8059140,0,42285169,0,0,69136,0,0,11449638,0,41480851,0,4946225,0,0,0,0,0,0,0,0,0,0,0,10178331,29326868,3091922,0,0,0,0,0,0,0,1128345,13401952,0,210128,0,20138836,0,46243000,4630045,0,849055,0,0,0,0,0,163000,0,0,0,8176544,0,0,0,0,0,17807569,516139,17496992,0,22963701,834457,0,0,0,201275,0,21000000,0,0,27105095,0,11992014,0,300000,0,0,0,0,0,0,0,234360014,0,0,0,2043704,0,0,1678874,0,0,0,0,0,18948425,0,0,0,0,0,0,0,0,0,0,0,0,0,302179,0,0,21353303,3833507,0,0,0,0,0,0,0,382267,0,0,5542025,0,0,0,0,0,0,0,0,0,0,0,0,0,0,0,0,0,0,0,245000,0,0,7202,0,0,0,0,0,0,0,0,0,0,13022756,0,0,789804554,152159461,40203020,72258126,115603229,631442092,288500217,497409852,347451894,347234916,196482882,129042871,300257475,99318987,305875730,919838758,96060858,129394835,362744280,516642939,544272402,102000000,217764291,30039392,128905366,0,219417255,209073645,216763646,200804534,0,367275019,57958696,0,140161792,0,98410061,90574188,96455697,27388767,30411183,181466833,116766556,70067909,171183863,167722310,9584131,167298192,23936908,103911669,783766341,20796847,130293714,171963386,115505027,54700105,82102379,0,332323,102356381,0,203567857,115772733,55041367,92913171,11850214,61347797,28283637,95149435,25819961,15992615,183474602,56422687,96105964,8203235,24829644,36609966,13395939,0,170128460,36098382,102000000,424760,1461989,103951461,108103450,0,119114517,16980098,113086475,38000000,0,57223890,25195000,0,54667954,0,50907422,0,0,0,0,0,109502303,69631118,0,170268750,0,29331068,256697520,26155781,611899420,70992898,124731534,27685016,0,0,0,41512007,65470529,0,0,154648887,0,26781723,46118097,0,78000586,0,13001257,0,34808403,72178895,65070412,0,0,0,0,371396,0,117575636,14793624,0,0,0,0,20377075,0,0,0,0,0,21009180,0,30114487,0,120620,61255921,0,20085825,49718611,0,0,365134,16605763,0,0,14867514,0,0,16123851,0,0,62172050,3537961,0,0,0,12520799,0,46546197,64445708,0,21148829,0,1524966,0,0,0,0,14822346,0,0,5001655,0,0,12,13000000,0,6808550,0,0,0,0,176153,21800302,0,11341016,0,548039,8112712,28818995,31179516,0,0,776691,28575078,1548955,22034832,0,0,6614280,11837022,0,1841260,0,0,0,0,0,1914166,0,0,0,0,74541707,0,0,0,10000000,0,29170410,0,16702864,1479042,0,0,4678405,0,0,0,143597,0,0,0,0,0,0,9109322,3166000,0,0,0,603943,0,0,2037545,0,0,0,0,0,14000000,0,0,0,0,0,0,0,0,0,5923000,0,0,0,0,0,823258,0,0,0,0,0,0,0,0,0,0,0,0,0,127067,0,0,0,3515061,245066411,46122355,9700000,0,12600000,6330000,0,0,6000000,18016290,0,0,0,0,0,84563118,0,0,7500000,58831997,0,0,0,0,0,0,0,0,0,0,0,0,0,0,0,0,0,0,0,0,538400000,44017374,83453539,115229890,58853106,23000000,108185706,59754601,21202829,27107960,26010864,41675194,66132626,0,0,21378361,0,39846344,31899000,11715321,0,101300000,0,3484331,0,0,16647800,0,0,0,0,70687344,0,0,19853892,0,0,11000000,7206220,22743674,0,0,0,12729678,0,0,10389003,0,22482952,0,0,0,14796236,0,0,0,37121708,0,11000000,0,0,22471595,15795189,0,0,5000000,0,6659377,0,18971000,4400000,0,12000000,0,4059673,0,0,0,961000000,938212738,623722818,442824138,171600000,585349010,457363168,890871626,57096190,135560026,25037897,383531464,258022233,56255142,422610419,228738393,231411584,137587063,95696996,129266061,76181545,0,266465037,80573774,798958165,152000000,169860655,361366633,287594577,169332978,156835339,219076518,77566815,0,289047763,340487652,84785914,0,311312624,95608995,527068851,119000410,64238440,86658558,41797066,32017803,229736344,41637263,75505973,372234864,20710513,39000000,16930884,69766619,117760134,63215872,70016220,66122026,14373825,40452643,193355800,173000000,186072214,18211013,0,84146832,33231264,139352633,97838349,0,90450008,0,7000000,26820641,55112356,195735876,92601050,0,127766650,149044513,94679598,99965753,147880543,253625427,25037897,33000000,1109660,709709780,175372502,35619521,19776159,0,25399945,0,0,9620399,80253908,37311672,0,7938872,0,74237563,0,5741608,15071514,69474661,0,25005257,0,18197398,0,22179430,0,0,7766240,147717833,5364858,14711793,18928871,46,62771059,0,73090611,14723313,0,95673607,145896422,24748670,6819587,0,0,0,5761917,0,29541790,8159508,59192128,0,0,86865564,0,17500000,0,0,6101046,47738099,69485490,30226144,0,0,0,41170784,0,26810113,0,0,14334401,0,54947,54926886,73276047,35300645,68377859,0,13620075,8642858,0,0,2626800,0,69307224,9576495,0,0,92991835,11293663,0,0,103071443,16974459,413454,0,0,0,0,0,0,0,0,5367030,0,0,0,0,0,0,0,0,24538513,30822861,34619699,0,0,0,0,0,0,0,18317151,0,0,346592,0,0,2849142,3561,0,44852,0,0,0,0,0,27297451,0,22222308,4607608,0,0,0,4001121,0,0,2955039,0,0,0,0,0,9234510,0,0,1027699,109000000,0,0,0,0,0,0,20380,25303038,0,0,0,0,5285197,5300000,0,0,0,0,0,0,0,0,21786738,2426851,0,0,0,0,0,0,0,0,0,0,24377151,0,75511123,5410749,0,60641,0,0,121129,0,22217407,0,36500000,0,0,0,719968,0,0,0,249905,0,0,0,0,0,0,0,0,0,0,0,908847,0,0,0,8768,0,0,0,0,220151,6870249,13196245,0,0,0,0,0,46474,0,0,82169884,274661,0,0,0,0,0,0,0,0,0,41098065,0,0,0,0,55184721,4910682,0,0,0,0,34786960,0,0,0,0,0,0,0,10597734,0,0,0,0,0,486021,0,0,0,0,31576,0,0,31609243,0,0,4778376,0,0,0,0,0,0,0,0,0,0,0,173066,0,0,0,0,0,0,0,0,20342161,0,0,0,0,0,0,0,0,0,0,0,10337477,0,0,0,12000000,0,0,0,1752038,0,0,1030375,0,0,0,0,6000,0,0,0,0,0,1431623,0,0,0,0,312751,104931801,83471511,100000000,139000000,210300000,20045115,0,22490039,200182160,23438120,39946780,11988469,0,86432000,43000000,37823676,0,35841901,30177511,0,0,0,13015688,106260000,51718367,73961419,31755742,33300000,0,20000000,0,0,0,0,0,37799643,61801971,0,0,0,0,0,0,0,43885000,0,0,0,0,0,0,0,0,0,22228000,0,0,78371200,333000000,295212467,153083102,20158808,316360478,0,51973029,90815558,25504513,31042035,40400657,30925690,86572238,81198894,38376497,87000000,25100000,80035402,32,2300000,0,0,0,28744356,38435947,4736202,48143579,0,23686027,34700291,14418922,0,0,28733290,0,5778353,0,69821334,2181987,8801940,0,38348988,12145169,0,25928721,0,0,20458340,0,0,0,45858563,0,68392977,11129057,22812411,0,47951979,0,14000000,0,0,0,27187653,8089290,4978922,0,0,0,28078073,0,0,0,0,0,0,0,0,14134877,0,0,0,0,0,0,3412497,35000000,0,19265302,0,0,0,801000,0,0,10600497,1337274,0,0,0,0,0,0,0,572700000,65884703,160000000,183700000,19294144,75800000,90400000,79567667,61399552,87987055,0,0,0,67642693,63541777,21500000,19910002,4300000,21000000,15543000,5979292,21200000,25697647,33759266,0,0,0,0,30400000,42313354,20766616,0,17233166,11798616,16175602,0,92921203,0,4491986,5678950,6333135,29450919,13030214,0,0,2494480,64892670,12232628,0,34725000,0,0,2120439,23646952,6486797,8890685,0,0,0,760883,0,0,9190819,10219460,0,0,0,3661757,4685097,64783827,0,5656087,0,0,10604986,0,10676194,27900000,0,16500000,327311859,361958736,23341568,210000000,352194034,262797249,366101666,113000000,168840000,355237933,141407024,346079773,187436818,5535405,113493481,336529144,116112375,0,254134910,287928194,0,4300000,264218220,35348597,212385533,182016617,49800000,1106279658,0,19075720,25405445,182057016,189859560,21284514,104324083,18517322,122195920,135000000,26488734,66000000,115101622,30303072,18552460,0,0,0,0,6600000,28215918,39363635,157387195,20350754,6700000,0,50012507,76578911,0,24048000,16,0,0,35431113,0,31596911,47774193,7563728,0,13681765,0,127600435,23450000,15116634,11534477,0,0,2,0,107879496,0,178104,0,7959291,1148752,0,0,8175346,69660733,8349430,32648673,0,339889,0,17689177,5781885,0,50892160,0,7412216,7603766,0,0,0,0,9851610,17381942,0,0,0,0,0,0,19800000,64350171,0,529766,0,13940383,0,0,15453274,0,152000000,0,0,0,0,17519169,0,0,718490,0,10382407,16140822,0,0,0,0,442965,0,0,27400000,0,17014653,0,106269971,0,0,0,0,180000000,0,0,0,81452156,0,15000000,0,23574130,3983912,6,38290723,0,13071518,0,0,0,0,0,11,0,0,0,0,0,5093707,14661007,504050219,358991681,280000000,159773545,321731527,215862692,0,156563139,0,243240178,121697323,147214049,352927224,0,10725228,58662452,105232691,2019469,159157447,231605150,90753806,7191399,17092453,134095253,44065653,242623,6739141,43440294,411006740,0,0,0,27281507,70611210,178051587,50752337,4160851,21706101,12534961,48169908,0,14715067,23278931,25966555,75505856,2040920,88036683,1862805,0,0,0,14683921,7532911,28590665,128000000,21621000,107458785,5101632,754935,64088552,14110589,62548947,32710894,70100000,32101000,25792310,0,0,0,0,57138719,22518097,14358033,0,0,14356479,0,0,0,25105517,137783840,4651977,20146880,18472850,8359717,9,46434570,48017402,0,0,0,20000000,0,0,8403433,30524763,22697691,0,0,11390479,0,0,0,0,0,0,0,4836637,6742168,37170057,0,0,0,0,0,17530973,0,1666511,0,0,0,7286388,0,0,33946224,0,0,0,0,0,0,0,389925971,26279000,195312802,29800000,24600832,31672907,31973249,0,29400000,50000000,34967437,19255967,58972904,21722776,0,5732587,25533818,0,95461682,100000,0,125728258,40382659,72179579,40716963,42365581,14225876,0,4300000,0,85300000,17374595,0,20471382,216166,12000000,0,0,0,0,6000000,0,2689068,17985893,19905359,0,35856053,0,18000000,0,41092328,0,0,0,35610100,0,0,0,0,0,0,0,0,0,0,0,0,0,0,29916207,0,6000000,0,0,0,0,15578237,0,0,0,0,0,816969268,457696359,16491080,60611975,335062621,101371017,147298761,100138851,0,230000000,242295562,320689294,152036382,25836616,152266007,150000000,41205099,129832389,173046663,89456761,273552592,33459416,115267375,128769345,159212469,57400547,60209334,231976425,121969216,494471524,309492681,22955097,102825796,165615285,29359216,150270147,0,42277365,20300385,14048372,7011317,4505922,113309743,18626419,58620973,102616183,3793614,100860818,0,34585416,0,0,0,41590886,3692836,24769466,0,97529550,16675000,0,25023434,48093211,258263,0,22611954,0,5,141047179,0,0,0,14702438,1500000,0,0,3011195,0,0,47267001,51702483,17193231,0,0,9482579,0,0,0,17917287,0,0,560069,28921264,34327391,22231658,185260553,53854588,21302121,116400000,0,4109095,24475416,13417292,0,19030691,0,0,12379402,32709423,75000000,0,1814290,0,0,0,0,405000,0,0,13269963,20080020,0,0,2409225,0,0,0,0,0,0,22540359,10300000,0,0,0,0,0,17300889,0,0,0,119718203,17380126,32,8620678,0,16900000,0,0,0,0,0,0,0,0,0,222559,0,0,42000000,0,0,0,0,0,2503829,49627779,0,0,0,0,0,76382,0,0,0,0,0,153155,0,0,0,0,0,0,0,0,0,0,0,0,0,0,0,0,0,4619014,1100000,10070000,0,0,2666118,0,0,0,457640427,39723096,345141403,429632142,83557872,546388105,90383208,278019771,169327687,374111707,354248063,264105545,224834564,215294342,53302314,113916474,91036760,127666415,110000000,237202299,256271286,330444045,71000000,53187659,28780255,76432727,212000000,68106245,7390108,55707411,0,190213455,173959438,34266564,40031879,119754278,136706683,12008642,39459427,207515725,73180723,124745083,0,96085477,35007180,0,149270999,56932305,248118121,128884132,106371651,47383689,90449929,152500343,47126295,33463969,60874615,104155843,107196498,0,19412993,0,0,59468275,0,34566746,144056873,19125401,0,325756637,0,0,0,36754634,0,161834276,0,215663859,32168970,0,0,0,45554533,59827328,33000337,109130,0,0,38574362,48814909,155464351,71000000,80049764,0,0,0,20627372,0,183611771,123307945,0,37036004,0,0,14828081,0,0,0,36779296,0,0,0,0,0,30199105,9902115,0,69700000,236185,0,15843608,27728118,0,0,0,0,0,5108820,7060876,0,24362772,0,15185241,0,13700000,0,1568749,260562,12372410,0,17200925,8524534,0,36609995,0,0,0,26330482,1744858,0,0,0,0,0,15427192,0,1631839,0,0,0,0,0,688510,0,0,157299717,0,0,0,0,0,0,0,0,0,0,0,0,0,0,151559,0,0,0,0,0,0,0,0,0,0,0,0,0,0,0,0,0,0,13555988,0,8279017,0,0,0,35134820,0,3728888,0,0,0,0,0,0,0,0,0,0,0,0,36037909,0,5217498,0,0,0,0,32768670,792910554,13782838,125212904,0,33000000,124000000,122200000,68851475,78868508,96800000,27092880,6110000,40577001,0,77737889,177200000,27150534,0,21017056,9056073,18196170,0,14665733,0,6455530,129795554,0,30036000,0,15171476,21028755,57059003,1723872,14000000,0,0,0,13277558,0,10278575,0,36690067,0,14400000,53977250,0,28215453,70687344,0,0,12534817,0,0,0,0,16,14056528,0,0,0,1198346,20659423,0,0,0,0,0,0,0,0,0,0,0,0,0,0,0,0,0,0,264118201,553799566,304320254,131183530,27739163,481840909,0,244386864,363398565,218613188,171757863,0,41610884,27200316,0,67200000,369884651,189198313,23875127,71485043,250649836,0,140464664,136159423,44547681,142940100,285444603,40002112,379014294,46683377,13100000,164000000,10680275,289317794,250288523,185991646,128038368,3221152,198685114,0,98126565,0,54682547,294456605,118000000,250821495,102367405,82150642,77745568,123306987,0,65705772,202292902,25232289,72527595,0,22921898,14096321,17507368,69131860,0,3897569,0,0,0,30331165,186883563,0,0,50671850,0,16757163,55494066,0,116672912,103891409,5624282,0,58000000,0,0,0,48522832,0,0,18253415,27007143,0,14051384,21567853,19870567,56702901,0,0,2807390,19204929,0,1053788,299200,0,0,0,0,40283321,3970078,0,0,0,7027290,0,0,0,0,0,25605015,55041738,37141130,0,0,11203026,9495408,0,9898412,14567883,0,5879254,1929168,0,0,0,0,0,0,0,3572443,29202884,100491683,0,0,0,15,0,0,13035599,0,2375097,17460020,0,0,6451628,777423,0,19000000,10224116,1980338,0,0,0,124494,0,0,0,0,0,0,870751,0,0,76447420,0,0,0,10443316,0,0,0,631221,0,46905889,0,0,7985929,0,76000000,37672350,0,0,0,0,0,0,0,0,0,0,0,0,0,0,0,0,0,0,0,0,0,0,0,0,0,211343479,474171806,92823546,411348924,332000000,235860116,215394738,156167015,71320000,26828365,90000098,227853986,63408614,40485039,296000000,222724172,70200000,14697005,22168359,10166459,36602000,57469467,38956288,46908987,161001698,79258538,15704614,0,49797148,0,30218387,126297830,78247647,18671317,0,1700000,0,0,0,14000000,74134790,11567217,38903179,1145404,71079915,0,0,27100027,2345628,60864870,110879513,0,7825000,0,7237794,16554699,0,145793296,0,18254702,45892212,0,0,0,0,0,0,95904091,14743391,8143225,27843,0,0,0,0,37295445,0,0,0,882290,0,3960327,0,192816,0,11642254,20036737,0,15942628,0,0,0,0,0,0,84431625,0,30050028,35150960,20047604,0,4557214,0,2777280,12065892,40590000,0,0,1132112,4729352,14278900,0,0,0,8800000,0,0,0,0,0,0,0,0,0,793775,0,0,1738897,0,0,0,12195695,0,0,1919653,1519796,0,377350553,520000000,300854823,390493908,15556340,182300000,96900000,86930411,83531958,0,152368585,191502426,17218080,62000000,45361000,34416893,78,8479793,0,272742922,6153939,0,0,34872033,0,59509925,205405498,57504069,7434726,30102717,0,63710000,2015810,20560255,0,124033791,181096164,0,2807854,0,119418501,65595485,2275557,174999005,0,11657385,0,0,0,0,0,89325780,41895491,3106559,0,25196249,2735731,49114016,1193062,39673161,0,0,15073942,0,74787599,2415396,32482682,0,0,0,0,38016380,0,0,13,0,36489888,0,0,0,47624253,10400000,0,13200170,23562716,29,1250712,0,0,0,0,0,22773535,7788597,0,524668,0,0,0,0,0,0,20246790,0,0,0,0,0,0,0,11511031,34793160,21830957,0,0,0,4603929,0,0,3752426,0,0,0,1750301,0,14812000,0,2853801,0,0,0,0,4654288,140767956,151668774,78756177,22433275,73326666,354825435,11806119,288752301,189015611,0,0,216614388,329803958,84460846,171504781,60328000,44196684,57269863,239606210,72500000,42039085,50888000,34994648,62493712,19510371,21630088,8247943,25024919,5596267,0,1108462,0,34604000,2983784,103173635,13008928,7282851,0,0,17768757,20256975,21486757,0,19170001,0,34670720,13854000,17637950,5935269,0,0,0,0,12706478,9205924,0,0,0,0,14144000,0,6193901,20324096,38413606,0,18869631,8373585,7399763,0,0,354704,0,0,12090735,0,43455230,0,0,0,0,0,8038508,0,28202109,0,0,9797098,0,0,1547397,0,3109904,0,3468572,0,3916303,57041866,0,0,0,0,3184348,29300000,15122000,0,21032267,3813293,0,5344577,0,0,0,14681192,0,0,589244,19595031,2835116,0,46616067,51684798,0,725131,0,0,0,0,0,13994920,1189315,0,241,0,0,0,0,6908797,17514553,4192440,0,0,3569939,0,0,0,98235548,46357676,213954274,38119483,191185897,53000000,5923044,120207127,38122105,51881013,30857814,44793222,43848069,299965036,19300000,29180280,76270454,123922370,43984230,320145693,28061343,25893810,49230280,17185632,16057580,65088797,32222567,63766510,14000000,0,26713187,3221568,51249404,18553948,39321715,34368475,66673516,0,7800000,40050884,13290368,0,0,0,14000,0,0,35509515,49998613,110996879,0,0,168000000,0,0,0,0,14182492,0,14564027,2300000,18753438,0,2585639,0,54215416,10278549,0,0,3587303,0,18532286,0,0,0,57915972,80640528,3769990,0,50504655,35114428,0,0,0,0,31623833,0,0,22642033,0,0,4215859,0,0,42721196,0,25205460,0,0,0,12396383,0,0,0,0,4278150,0,0,0,0,23509382,13839404,7305209,3685862,0,34377585,154323,0,0,0,0,0,2683519,0,0,56715371,33395426,0,0,0,42300873,0,0,33395426,0,16800000,6800000,21000000,0,0,0,38901218,0,11000000,0,0,0,0,0,500000,0,0,0,0,0,0,0,3110000,0,0,0,0,814666,0,47542841,30000000,97572000,86273333,30859000,0,4420000,0,27634716,119500000,0,47000000,12800000,0,26533200,0,0,0,21700000,0,0,0,0,22000000,0,0,0,116000000,0,0,0,0,79666653,43008075,0,0,0,0,0,0,0,0,0,0,0,0,30000,108981275,470654000,5028948,112892319,20000000,41833347,0,0,27476252,0,0,0,0,20000000,0,0,12484444,5000000,0,34251525,0,0,0,0,0,46665856,14200000,0,0,0,30000000,0,0,0,0,8022000,0,0,0,0,0,0,0,0,59600000,70000000,0,13129846,0,0,0,50000000,0,8000000,0,0,0,8000000,0,0,0,3100000,0,0,0,0,2500000,0,0,1250000,0,0,0,0,0,0,124900000,9440272,102272727,1000549,0,7000000,72000000,12368234,0,0,0,0,0,0,0,0,0,0,0,0,0,0,0,0,12000000,0,0,0,0,0,0,0,0,0,0,0,0,0,0,0,0,0,26589000,4000000,116000000,0,35976000,12348905,3251794,0,0,2437000,0,41158757,10600000,0,0,0,0,0,0,0,0,0,0,0,0,12121618,0,10404330,29133000,72266306,0,0,0,0,0,0,0,0,0,0,0,0,0,0,0,28623900,0,0,0,0,0,0,0,0,0,261317921,46836394,240031094,244527583,53000000,463000000,136766062,424208848,505000000,201965915,61276872,119946358,35763605,0,200,57120318,157920733,0,5080409,41482207,48572000,45681173,16283667,0,52096475,153518974,0,24078196,16853487,29888235,0,221303188,39404261,14560247,0,39024251,61489265,0,0,11567449,33461269,25965144,0,8266343,16153593,9229401,11541758,0,0,103738726,48878502,1293976,0,5835247,13446769,0,27575086,15691192,46044400,1030938,0,201957688,0,0,0,2554476,11582891,20,2075084,5728953,0,0,16,1382462,47410000,0,6698361,27931461,0,0,0,0,0,0,0,205068,0,0,15645616,0,8862354,10000000,0,0,0,0,17487531,0,5765562,20423389,0,0,0,15379253,39071603,0,27734391,0,0,0,17037887,0,0,0,0,3779620,476684675,35419397,26386000,0,0,0,0,15445131,0,0,24707633,0,20710451,29381956,0,0,215880014,9500000,43656822,28900000,0,10000000,0,0,0,0,0,14483352,0,0,2000000,0,0,0,0,0,4300000,4000000,0,0,5000000,0,0,0,0,0,0,32000000,4905000,60000000,25000000,0,0,0,0,0,0,6000000,0,0,0,0,0,0,0,0,0,0,0,0,0,0,0,0,10000000,0,7100000,0,0,28262574,117235147,33800000,60922980,25000000,52614445,70600000,46236000,7900000,31800000,21709020,0,23689877,0,0,0,51079064,0,33833201,0,0,0,0,0,0,0,0,0,0,0,0,0,0,0,0,161000000,0,0,0,0,0,0,0,0,0,35323292,0,70906973,75634409,321265768,920100000,159055768,441286195,368875760,176997168,206678440,7993039,137298489,135130999,35739755,48919043,255000211,116300000,42,0,0,154864401,227799884,56505065,23202734,11146270,36516012,133752825,12281551,20844907,57319029,12136938,195268056,53898845,10696210,30000000,117270765,2395231,17287898,11285588,40903593,32416586,270248367,10611160,0,39514713,0,65796862,428868,153698625,11081586,36448200,0,0,4104962,0,116700000,18635620,0,0,0,44456478,47965000,74189677,23237911,5617391,32255440,0,0,0,0,63000000,0,36733909,46405336,18994653,15,140081992,0,27,0,22750363,0,3200000,0,118243066,25000000,6110979,11585483,6,7770731,0,0,0,266614059,0,0,27900000,0,13273595,27484464,0,0,24760338,16589540,2000000,0,0,0,8556940,0,53579269,0,2438031,0,0,0,4858139,418961,0,27515786,0,9532895,7266383,0,1499795,6980986,5632086,0,23042200,32861136,0,0,0,18899204,0,13609396,19724334,9317021,0,0,0,0,2967668,0,0,3283371,3418141,194720,12416686,12974636,1796389,3956913,0,0,6574896,0,0,0,0,63513743,0,0,54207,0,0,0,0,0,0,0,4916135,0,6933459,0,0,17953778,0,0,0,205843612,104397102,41744718,111584787,50700000,0,16217773,11000000,0,0,0,45300000,27379978,0,0,56666667,0,0,0,0,9000000,0,50000000,0,0,0,6000000,2000000,0,0,0,0,0,0,0,0,0,0,0,0,78898765,0,11403529,13474588,0,57750000,0,10878107,5000000,0,0,0,0,0,0,0,0,0,0,10000000,0,0,0,0,0,0,0,0,0,0,0,0,0,0,131060248,5900000,138530565,356830601,70136369,52287000,0,84542002,60629159,6735922,82424789,1641825,0,40697761,8551228,133000000,37962774,11000000,52293982,77200000,12729917,49042224,5844868,115103979,18564613,0,16209459,328203506,42724017,79817939,71624879,40996665,54999651,38748395,0,17218023,28607524,19472057,14302779,1261000,4662137,43579163,13167232,40471663,2826523,5738952,0,40084041,0,4711220,0,5706456,0,62134225,0,7433663,20966644,11949484,41382841,8362969,0,14481606,0,0,6637565,0,0,3500000,6797218,8025872,91258000,0,36611610,0,8988731,0,38702310,20603715,0,0,4884663,0,0,0,3900000,2015882,2347000,0,0,0,0,0,17768900,12303904,5450815,0,7177431,0,0,0,15945534,8033397,31853080,0,0,0,12308521,0,0,0,0,0,9697739,0,0,0,4790926,8620929,0,0,0,32056467,441306145,161777836,3000000,90000000,0,8844595,0,159616327,39768000,0,0,0,115000000,3,53267000,18344729,13200000,29800000,0,0,0,0,0,11000000,0,0,0,0,0,0,0,0,0,0,0,0,0,0,0,45000000,0,0,0,0,0,0,0,0,0,0,0,0,0,2000000,55675257,18999718,81600000,5200000,0,89800000,136400000,0,29548291,0,5050000,0,100489151,900000,0,0,0,31559552,0,0,0,0,0,0,0,0,0,3500000,0,0,0,0,0,0,0,1500000,0,0,0,0,0,141195658,163214286,111721910,29950000,0,0,0,0,0,0,0,0,0,0,0,0,0,0,0,0,0,0,0,0,0,0,0,12000000,0,0,0,0,0,0,0,81974493,102308889,0,44785053,638641,0,0,0,0,0,0,0,0,0,0,0,14250000,0,0,0,0,0,0,0,0,0,0,0,0,0,0,181813770,187884007,55000000,300218018,70000000,141000000,49579269,50000000,0,41590893,0,7185518,0,0,0,35000000,30471420,0,0,0,14560084,0,11,7230000,22765081,24046533,0,0,0,0,0,0,16393000,21049053,0,0,26518355,0,3713768,0,0,0,0,0,0,0,0,0,0,0,0,0,0,0,0,0,0,5438927,0,0,0,0,321952,0,78000000,0,0,33736689,0,0,0,0,0,13000000,6000000,0,0,0,0,0,20000000,0,0,0,0,0,0,0,0,0,0,0,0,12000000,0,0,0,0,0,0,0,0,0,0,0,0,0,0,0,0,0]},\"selected\":{\"id\":\"1087\"},\"selection_policy\":{\"id\":\"1086\"}},\"id\":\"1069\",\"type\":\"ColumnDataSource\"},{\"attributes\":{\"fill_alpha\":{\"value\":0.1},\"fill_color\":{\"value\":\"#1f77b4\"},\"hatch_alpha\":{\"value\":0.1},\"line_alpha\":{\"value\":0.1},\"line_color\":{\"value\":\"#1f77b4\"},\"size\":{\"value\":12},\"x\":{\"field\":\"x\"},\"y\":{\"field\":\"y\"}},\"id\":\"1071\",\"type\":\"Circle\"},{\"attributes\":{},\"id\":\"1085\",\"type\":\"AllLabels\"},{\"attributes\":{},\"id\":\"1056\",\"type\":\"WheelZoomTool\"},{\"attributes\":{},\"id\":\"1055\",\"type\":\"PanTool\"},{\"attributes\":{\"overlay\":{\"id\":\"1061\"}},\"id\":\"1057\",\"type\":\"BoxZoomTool\"},{\"attributes\":{},\"id\":\"1058\",\"type\":\"SaveTool\"},{\"attributes\":{},\"id\":\"1059\",\"type\":\"ResetTool\"},{\"attributes\":{\"align\":\"center\",\"coordinates\":null,\"group\":null,\"text\":\"Budget\"},\"id\":\"1077\",\"type\":\"Title\"},{\"attributes\":{\"coordinates\":null,\"formatter\":{\"id\":\"1081\"},\"group\":null,\"major_label_policy\":{\"id\":\"1082\"},\"ticker\":{\"id\":\"1052\"}},\"id\":\"1051\",\"type\":\"LinearAxis\"},{\"attributes\":{\"align\":\"center\",\"coordinates\":null,\"group\":null,\"text\":\"Revenue\"},\"id\":\"1078\",\"type\":\"Title\"},{\"attributes\":{},\"id\":\"1086\",\"type\":\"UnionRenderers\"},{\"attributes\":{},\"id\":\"1087\",\"type\":\"Selection\"}],\"root_ids\":[\"1036\"]},\"title\":\"Bokeh Application\",\"version\":\"2.4.1\"}};\n",
       "  const render_items = [{\"docid\":\"c1e22160-094c-4616-a6da-4ac82d05d9cb\",\"root_ids\":[\"1036\"],\"roots\":{\"1036\":\"bc872e04-83f7-418c-8426-d056d8462638\"}}];\n",
       "  root.Bokeh.embed.embed_items_notebook(docs_json, render_items);\n",
       "\n",
       "  }\n",
       "  if (root.Bokeh !== undefined) {\n",
       "    embed_document(root);\n",
       "  } else {\n",
       "    let attempts = 0;\n",
       "    const timer = setInterval(function(root) {\n",
       "      if (root.Bokeh !== undefined) {\n",
       "        clearInterval(timer);\n",
       "        embed_document(root);\n",
       "      } else {\n",
       "        attempts++;\n",
       "        if (attempts > 100) {\n",
       "          clearInterval(timer);\n",
       "          console.log(\"Bokeh: ERROR: Unable to run BokehJS code because BokehJS library is missing\");\n",
       "        }\n",
       "      }\n",
       "    }, 10, root)\n",
       "  }\n",
       "})(window);"
      ],
      "application/vnd.bokehjs_exec.v0+json": ""
     },
     "metadata": {
      "application/vnd.bokehjs_exec.v0+json": {
       "id": "1036"
      }
     },
     "output_type": "display_data"
    }
   ],
   "source": [
    "# Display plot\n",
    "show(plot)"
   ]
  },
  {
   "cell_type": "code",
   "execution_count": null,
   "metadata": {},
   "outputs": [],
   "source": []
  },
  {
   "cell_type": "markdown",
   "metadata": {},
   "source": [
    "Generally, although the corellation is weak, it tends to show that a fair number of mid-to-high budget movies usually generate higher revenue."
   ]
  },
  {
   "cell_type": "code",
   "execution_count": null,
   "metadata": {},
   "outputs": [],
   "source": []
  },
  {
   "cell_type": "code",
   "execution_count": null,
   "metadata": {},
   "outputs": [],
   "source": []
  },
  {
   "cell_type": "markdown",
   "metadata": {},
   "source": [
    "### Budget vs Popularity\n",
    "Are high budget-movies generally popular with the public (or vice versa)? We compare both variables in this section to find out!"
   ]
  },
  {
   "cell_type": "code",
   "execution_count": 20,
   "metadata": {},
   "outputs": [
    {
     "data": {
      "image/png": "[encoded data removed]",
      "text/plain": [
       "<Figure size 432x288 with 1 Axes>"
      ]
     },
     "metadata": {
      "needs_background": "light"
     },
     "output_type": "display_data"
    }
   ],
   "source": [
    "# Scatter plot of budget against popularity\n",
    "movies_df.plot(x='budget', y= 'popularity', kind = 'scatter');"
   ]
  },
  {
   "cell_type": "code",
   "execution_count": null,
   "metadata": {},
   "outputs": [],
   "source": []
  },
  {
   "cell_type": "markdown",
   "metadata": {},
   "source": [
    "### Revenue and Vote average compared\n",
    "Do movies with high or low budgets recieve higher or lower votes on averge, respectively?"
   ]
  },
  {
   "cell_type": "code",
   "execution_count": 21,
   "metadata": {},
   "outputs": [
    {
     "data": {
      "image/png": "[encoded data removed]",
      "text/plain": [
       "<Figure size 432x288 with 1 Axes>"
      ]
     },
     "metadata": {
      "needs_background": "light"
     },
     "output_type": "display_data"
    }
   ],
   "source": [
    "# Scatter plot of Revenue against Vote average\n",
    "movies_df.plot(x='vote_average', y= 'revenue', kind = 'scatter');"
   ]
  },
  {
   "cell_type": "markdown",
   "metadata": {},
   "source": [
    "Negatively skewed scatter plot.\n",
    "\n",
    "Also, higher vote average (7-8) tend to be consistent with movies with high revenue returns.\n"
   ]
  },
  {
   "cell_type": "code",
   "execution_count": null,
   "metadata": {},
   "outputs": [],
   "source": []
  },
  {
   "cell_type": "markdown",
   "metadata": {},
   "source": [
    "## Research Question 2 - What relationships csn be discovered by comparing Revenue with  Popularity and Vote average? "
   ]
  },
  {
   "cell_type": "markdown",
   "metadata": {},
   "source": [
    "\n",
    "\n",
    "Next, we place **Revenue** side by side with other variables as **Release yaer** and **Popularity**, and see how they are related."
   ]
  },
  {
   "cell_type": "code",
   "execution_count": 98,
   "metadata": {},
   "outputs": [
    {
     "data": {
      "text/plain": [
       "<AxesSubplot:>"
      ]
     },
     "execution_count": 98,
     "metadata": {},
     "output_type": "execute_result"
    },
    {
     "data": {
      "image/png": "[encoded data removed]",
      "text/plain": [
       "<Figure size 432x288 with 1 Axes>"
      ]
     },
     "metadata": {
      "needs_background": "light"
     },
     "output_type": "display_data"
    }
   ],
   "source": [
    "# Create a box plot and visualize outliers\n",
    "movies_df['revenue'].plot(kind = 'box')"
   ]
  },
  {
   "cell_type": "markdown",
   "metadata": {},
   "source": [
    "Potentially high amount of outliers."
   ]
  },
  {
   "cell_type": "code",
   "execution_count": null,
   "metadata": {},
   "outputs": [],
   "source": []
  },
  {
   "cell_type": "code",
   "execution_count": 31,
   "metadata": {},
   "outputs": [
    {
     "data": {
      "image/png": "[encoded data removed]",
      "text/plain": [
       "<Figure size 432x288 with 1 Axes>"
      ]
     },
     "metadata": {
      "needs_background": "light"
     },
     "output_type": "display_data"
    }
   ],
   "source": [
    "# Scatter plot of Revenue vs Release year\n",
    "movies_df.plot(x='release_year', y= 'revenue', kind = 'scatter');"
   ]
  },
  {
   "cell_type": "markdown",
   "metadata": {},
   "source": [
    "Movie revenue tend to increase as the years(of release) increases."
   ]
  },
  {
   "cell_type": "code",
   "execution_count": null,
   "metadata": {},
   "outputs": [],
   "source": []
  },
  {
   "cell_type": "code",
   "execution_count": 66,
   "metadata": {},
   "outputs": [
    {
     "data": {
      "image/png": "[encoded data removed]",
      "text/plain": [
       "<Figure size 432x288 with 1 Axes>"
      ]
     },
     "metadata": {
      "needs_background": "light"
     },
     "output_type": "display_data"
    }
   ],
   "source": [
    "# Scatter plot of Revenue against Popularity\n",
    "movies_df.plot(x='popularity', y= 'revenue', kind = 'scatter');"
   ]
  },
  {
   "cell_type": "markdown",
   "metadata": {},
   "source": [
    "No strong correlation observed above."
   ]
  },
  {
   "cell_type": "code",
   "execution_count": null,
   "metadata": {},
   "outputs": [],
   "source": []
  },
  {
   "cell_type": "code",
   "execution_count": null,
   "metadata": {},
   "outputs": [],
   "source": []
  },
  {
   "cell_type": "code",
   "execution_count": 83,
   "metadata": {},
   "outputs": [
    {
     "data": {
      "text/plain": [
       "<AxesSubplot:ylabel='Frequency'>"
      ]
     },
     "execution_count": 83,
     "metadata": {},
     "output_type": "execute_result"
    },
    {
     "data": {
      "image/png": "[encoded data removed]",
      "text/plain": [
       "<Figure size 504x504 with 1 Axes>"
      ]
     },
     "metadata": {
      "needs_background": "light"
     },
     "output_type": "display_data"
    }
   ],
   "source": [
    "# histogram of movie revenues\n",
    "movies_df['revenue'].value_counts().plot(kind='hist', figsize=(7,7))"
   ]
  },
  {
   "cell_type": "markdown",
   "metadata": {},
   "source": [
    "Histogram above shows revenue to be positively(right) skewed"
   ]
  },
  {
   "cell_type": "code",
   "execution_count": null,
   "metadata": {},
   "outputs": [],
   "source": []
  },
  {
   "cell_type": "markdown",
   "metadata": {},
   "source": [
    "<a id='conclusions'></a>\n",
    "## Conclusions\n",
    "\n",
    "> * Movies with high budgets correlate positively with movies than turn over high revenue.\n",
    "> * Movies between 100,000,000 - 200,000,000 budget range tend to be popular.\n",
    "> * High vote average correlate with higher revenue for movies.\n",
    "> * There is marked increase in revenue as the years increase (1960 through 2010 apprx.)\n",
    "### Limitation(s)\n",
    "> * The dataset analysed are almost half of the initial rows provided. This was necessitated by the need to drop rows which could not be effectively transformed for use.\n"
   ]
  },
  {
   "cell_type": "code",
   "execution_count": null,
   "metadata": {},
   "outputs": [],
   "source": []
  },
  {
   "cell_type": "code",
   "execution_count": null,
   "metadata": {
    "collapsed": true
   },
   "outputs": [],
   "source": [
    "from subprocess import call\n",
    "call(['python', '-m', 'nbconvert', 'Investigate_a_Dataset.ipynb'])"
   ]
  }
 ],
 "metadata": {
  "kernelspec": {
   "display_name": "Python 3 (ipykernel)",
   "language": "python",
   "name": "python3"
  },
  "language_info": {
   "codemirror_mode": {
    "name": "ipython",
    "version": 3
   },
   "file_extension": ".py",
   "mimetype": "text/x-python",
   "name": "python",
   "nbconvert_exporter": "python",
   "pygments_lexer": "ipython3",
   "version": "3.9.7"
  }
 },
 "nbformat": 4,
 "nbformat_minor": 2
}
